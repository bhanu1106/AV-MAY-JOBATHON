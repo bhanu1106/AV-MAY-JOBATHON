{
  "nbformat": 4,
  "nbformat_minor": 0,
  "metadata": {
    "colab": {
      "name": "may jobathon.ipynb",
      "provenance": [],
      "collapsed_sections": [],
      "authorship_tag": "ABX9TyMFVu1aUjA5knHPqx6lnEtQ",
      "include_colab_link": true
    },
    "kernelspec": {
      "display_name": "Python 3",
      "name": "python3"
    },
    "language_info": {
      "name": "python"
    }
  },
  "cells": [
    {
      "cell_type": "markdown",
      "metadata": {
        "id": "view-in-github",
        "colab_type": "text"
      },
      "source": [
        "<a href=\"https://colab.research.google.com/github/bhanu1106/AV-MAY-JOBATHON/blob/main/may_jobathon.ipynb\" target=\"_parent\"><img src=\"https://colab.research.google.com/assets/colab-badge.svg\" alt=\"Open In Colab\"/></a>"
      ]
    },
    {
      "cell_type": "code",
      "metadata": {
        "id": "OOa7qwwkhnQ1"
      },
      "source": [
        "import pandas as pd\n",
        "import numpy as np\n"
      ],
      "execution_count": 1,
      "outputs": []
    },
    {
      "cell_type": "code",
      "metadata": {
        "id": "fyhcJ-QvixiF"
      },
      "source": [
        "#Reading the files\n",
        "ld_train=pd.read_csv(\"train.csv\")\n",
        "ld_test=pd.read_csv(\"test.csv\") "
      ],
      "execution_count": 7,
      "outputs": []
    },
    {
      "cell_type": "code",
      "metadata": {
        "colab": {
          "base_uri": "https://localhost:8080/",
          "height": 224
        },
        "id": "vW7OH_eSi9c4",
        "outputId": "2d6fb5aa-24ff-4d41-fc6c-0365efd5f0a4"
      },
      "source": [
        "ld_train.head()"
      ],
      "execution_count": 8,
      "outputs": [
        {
          "output_type": "execute_result",
          "data": {
            "text/html": [
              "<div>\n",
              "<style scoped>\n",
              "    .dataframe tbody tr th:only-of-type {\n",
              "        vertical-align: middle;\n",
              "    }\n",
              "\n",
              "    .dataframe tbody tr th {\n",
              "        vertical-align: top;\n",
              "    }\n",
              "\n",
              "    .dataframe thead th {\n",
              "        text-align: right;\n",
              "    }\n",
              "</style>\n",
              "<table border=\"1\" class=\"dataframe\">\n",
              "  <thead>\n",
              "    <tr style=\"text-align: right;\">\n",
              "      <th></th>\n",
              "      <th>ID</th>\n",
              "      <th>Gender</th>\n",
              "      <th>Age</th>\n",
              "      <th>Region_Code</th>\n",
              "      <th>Occupation</th>\n",
              "      <th>Channel_Code</th>\n",
              "      <th>Vintage</th>\n",
              "      <th>Credit_Product</th>\n",
              "      <th>Avg_Account_Balance</th>\n",
              "      <th>Is_Active</th>\n",
              "      <th>Is_Lead</th>\n",
              "    </tr>\n",
              "  </thead>\n",
              "  <tbody>\n",
              "    <tr>\n",
              "      <th>0</th>\n",
              "      <td>NNVBBKZB</td>\n",
              "      <td>Female</td>\n",
              "      <td>73</td>\n",
              "      <td>RG268</td>\n",
              "      <td>Other</td>\n",
              "      <td>X3</td>\n",
              "      <td>43</td>\n",
              "      <td>No</td>\n",
              "      <td>1045696</td>\n",
              "      <td>No</td>\n",
              "      <td>0</td>\n",
              "    </tr>\n",
              "    <tr>\n",
              "      <th>1</th>\n",
              "      <td>IDD62UNG</td>\n",
              "      <td>Female</td>\n",
              "      <td>30</td>\n",
              "      <td>RG277</td>\n",
              "      <td>Salaried</td>\n",
              "      <td>X1</td>\n",
              "      <td>32</td>\n",
              "      <td>No</td>\n",
              "      <td>581988</td>\n",
              "      <td>No</td>\n",
              "      <td>0</td>\n",
              "    </tr>\n",
              "    <tr>\n",
              "      <th>2</th>\n",
              "      <td>HD3DSEMC</td>\n",
              "      <td>Female</td>\n",
              "      <td>56</td>\n",
              "      <td>RG268</td>\n",
              "      <td>Self_Employed</td>\n",
              "      <td>X3</td>\n",
              "      <td>26</td>\n",
              "      <td>No</td>\n",
              "      <td>1484315</td>\n",
              "      <td>Yes</td>\n",
              "      <td>0</td>\n",
              "    </tr>\n",
              "    <tr>\n",
              "      <th>3</th>\n",
              "      <td>BF3NC7KV</td>\n",
              "      <td>Male</td>\n",
              "      <td>34</td>\n",
              "      <td>RG270</td>\n",
              "      <td>Salaried</td>\n",
              "      <td>X1</td>\n",
              "      <td>19</td>\n",
              "      <td>No</td>\n",
              "      <td>470454</td>\n",
              "      <td>No</td>\n",
              "      <td>0</td>\n",
              "    </tr>\n",
              "    <tr>\n",
              "      <th>4</th>\n",
              "      <td>TEASRWXV</td>\n",
              "      <td>Female</td>\n",
              "      <td>30</td>\n",
              "      <td>RG282</td>\n",
              "      <td>Salaried</td>\n",
              "      <td>X1</td>\n",
              "      <td>33</td>\n",
              "      <td>No</td>\n",
              "      <td>886787</td>\n",
              "      <td>No</td>\n",
              "      <td>0</td>\n",
              "    </tr>\n",
              "  </tbody>\n",
              "</table>\n",
              "</div>"
            ],
            "text/plain": [
              "         ID  Gender  Age  ... Avg_Account_Balance Is_Active Is_Lead\n",
              "0  NNVBBKZB  Female   73  ...             1045696        No       0\n",
              "1  IDD62UNG  Female   30  ...              581988        No       0\n",
              "2  HD3DSEMC  Female   56  ...             1484315       Yes       0\n",
              "3  BF3NC7KV    Male   34  ...              470454        No       0\n",
              "4  TEASRWXV  Female   30  ...              886787        No       0\n",
              "\n",
              "[5 rows x 11 columns]"
            ]
          },
          "metadata": {
            "tags": []
          },
          "execution_count": 8
        }
      ]
    },
    {
      "cell_type": "code",
      "metadata": {
        "colab": {
          "base_uri": "https://localhost:8080/"
        },
        "id": "WtFKysrVjBGq",
        "outputId": "e4f46465-8ac6-46d7-803d-2eacbbbebaa7"
      },
      "source": [
        "ld_train.shape , ld_test.shape"
      ],
      "execution_count": 9,
      "outputs": [
        {
          "output_type": "execute_result",
          "data": {
            "text/plain": [
              "((245725, 11), (105312, 10))"
            ]
          },
          "metadata": {
            "tags": []
          },
          "execution_count": 9
        }
      ]
    },
    {
      "cell_type": "code",
      "metadata": {
        "id": "ctd7wDUxjGdz"
      },
      "source": [
        "ld_test['Is_Lead']=np.nan"
      ],
      "execution_count": 10,
      "outputs": []
    },
    {
      "cell_type": "code",
      "metadata": {
        "colab": {
          "base_uri": "https://localhost:8080/",
          "height": 224
        },
        "id": "MzyRfBnAjc04",
        "outputId": "e9af20a7-39f4-4d4e-f79d-1d297d112f9c"
      },
      "source": [
        "ld_test.head()"
      ],
      "execution_count": 11,
      "outputs": [
        {
          "output_type": "execute_result",
          "data": {
            "text/html": [
              "<div>\n",
              "<style scoped>\n",
              "    .dataframe tbody tr th:only-of-type {\n",
              "        vertical-align: middle;\n",
              "    }\n",
              "\n",
              "    .dataframe tbody tr th {\n",
              "        vertical-align: top;\n",
              "    }\n",
              "\n",
              "    .dataframe thead th {\n",
              "        text-align: right;\n",
              "    }\n",
              "</style>\n",
              "<table border=\"1\" class=\"dataframe\">\n",
              "  <thead>\n",
              "    <tr style=\"text-align: right;\">\n",
              "      <th></th>\n",
              "      <th>ID</th>\n",
              "      <th>Gender</th>\n",
              "      <th>Age</th>\n",
              "      <th>Region_Code</th>\n",
              "      <th>Occupation</th>\n",
              "      <th>Channel_Code</th>\n",
              "      <th>Vintage</th>\n",
              "      <th>Credit_Product</th>\n",
              "      <th>Avg_Account_Balance</th>\n",
              "      <th>Is_Active</th>\n",
              "      <th>Is_Lead</th>\n",
              "    </tr>\n",
              "  </thead>\n",
              "  <tbody>\n",
              "    <tr>\n",
              "      <th>0</th>\n",
              "      <td>VBENBARO</td>\n",
              "      <td>Male</td>\n",
              "      <td>29</td>\n",
              "      <td>RG254</td>\n",
              "      <td>Other</td>\n",
              "      <td>X1</td>\n",
              "      <td>25</td>\n",
              "      <td>Yes</td>\n",
              "      <td>742366</td>\n",
              "      <td>No</td>\n",
              "      <td>NaN</td>\n",
              "    </tr>\n",
              "    <tr>\n",
              "      <th>1</th>\n",
              "      <td>CCMEWNKY</td>\n",
              "      <td>Male</td>\n",
              "      <td>43</td>\n",
              "      <td>RG268</td>\n",
              "      <td>Other</td>\n",
              "      <td>X2</td>\n",
              "      <td>49</td>\n",
              "      <td>NaN</td>\n",
              "      <td>925537</td>\n",
              "      <td>No</td>\n",
              "      <td>NaN</td>\n",
              "    </tr>\n",
              "    <tr>\n",
              "      <th>2</th>\n",
              "      <td>VK3KGA9M</td>\n",
              "      <td>Male</td>\n",
              "      <td>31</td>\n",
              "      <td>RG270</td>\n",
              "      <td>Salaried</td>\n",
              "      <td>X1</td>\n",
              "      <td>14</td>\n",
              "      <td>No</td>\n",
              "      <td>215949</td>\n",
              "      <td>No</td>\n",
              "      <td>NaN</td>\n",
              "    </tr>\n",
              "    <tr>\n",
              "      <th>3</th>\n",
              "      <td>TT8RPZVC</td>\n",
              "      <td>Male</td>\n",
              "      <td>29</td>\n",
              "      <td>RG272</td>\n",
              "      <td>Other</td>\n",
              "      <td>X1</td>\n",
              "      <td>33</td>\n",
              "      <td>No</td>\n",
              "      <td>868070</td>\n",
              "      <td>No</td>\n",
              "      <td>NaN</td>\n",
              "    </tr>\n",
              "    <tr>\n",
              "      <th>4</th>\n",
              "      <td>SHQZEYTZ</td>\n",
              "      <td>Female</td>\n",
              "      <td>29</td>\n",
              "      <td>RG270</td>\n",
              "      <td>Other</td>\n",
              "      <td>X1</td>\n",
              "      <td>19</td>\n",
              "      <td>No</td>\n",
              "      <td>657087</td>\n",
              "      <td>No</td>\n",
              "      <td>NaN</td>\n",
              "    </tr>\n",
              "  </tbody>\n",
              "</table>\n",
              "</div>"
            ],
            "text/plain": [
              "         ID  Gender  Age  ... Avg_Account_Balance Is_Active Is_Lead\n",
              "0  VBENBARO    Male   29  ...              742366        No     NaN\n",
              "1  CCMEWNKY    Male   43  ...              925537        No     NaN\n",
              "2  VK3KGA9M    Male   31  ...              215949        No     NaN\n",
              "3  TT8RPZVC    Male   29  ...              868070        No     NaN\n",
              "4  SHQZEYTZ  Female   29  ...              657087        No     NaN\n",
              "\n",
              "[5 rows x 11 columns]"
            ]
          },
          "metadata": {
            "tags": []
          },
          "execution_count": 11
        }
      ]
    },
    {
      "cell_type": "code",
      "metadata": {
        "id": "b6vzKoWGjihy"
      },
      "source": [
        "ld_train['data']='train'\n",
        "ld_test['data']='test'\n",
        "ld_test=ld_test[ld_train.columns]\n",
        "ld_all=pd.concat([ld_train,ld_test],axis=0)"
      ],
      "execution_count": 12,
      "outputs": []
    },
    {
      "cell_type": "code",
      "metadata": {
        "colab": {
          "base_uri": "https://localhost:8080/"
        },
        "id": "HAdhT4oLjuep",
        "outputId": "acdd56a3-f8e0-4e34-db17-8f553ee293f1"
      },
      "source": [
        "ld_all.shape"
      ],
      "execution_count": 13,
      "outputs": [
        {
          "output_type": "execute_result",
          "data": {
            "text/plain": [
              "(351037, 12)"
            ]
          },
          "metadata": {
            "tags": []
          },
          "execution_count": 13
        }
      ]
    },
    {
      "cell_type": "code",
      "metadata": {
        "colab": {
          "base_uri": "https://localhost:8080/",
          "height": 224
        },
        "id": "K446UKL0j2Vb",
        "outputId": "8e0c3eb4-cab9-46f4-ad24-139d469ef26c"
      },
      "source": [
        "ld_all.head()"
      ],
      "execution_count": 14,
      "outputs": [
        {
          "output_type": "execute_result",
          "data": {
            "text/html": [
              "<div>\n",
              "<style scoped>\n",
              "    .dataframe tbody tr th:only-of-type {\n",
              "        vertical-align: middle;\n",
              "    }\n",
              "\n",
              "    .dataframe tbody tr th {\n",
              "        vertical-align: top;\n",
              "    }\n",
              "\n",
              "    .dataframe thead th {\n",
              "        text-align: right;\n",
              "    }\n",
              "</style>\n",
              "<table border=\"1\" class=\"dataframe\">\n",
              "  <thead>\n",
              "    <tr style=\"text-align: right;\">\n",
              "      <th></th>\n",
              "      <th>ID</th>\n",
              "      <th>Gender</th>\n",
              "      <th>Age</th>\n",
              "      <th>Region_Code</th>\n",
              "      <th>Occupation</th>\n",
              "      <th>Channel_Code</th>\n",
              "      <th>Vintage</th>\n",
              "      <th>Credit_Product</th>\n",
              "      <th>Avg_Account_Balance</th>\n",
              "      <th>Is_Active</th>\n",
              "      <th>Is_Lead</th>\n",
              "      <th>data</th>\n",
              "    </tr>\n",
              "  </thead>\n",
              "  <tbody>\n",
              "    <tr>\n",
              "      <th>0</th>\n",
              "      <td>NNVBBKZB</td>\n",
              "      <td>Female</td>\n",
              "      <td>73</td>\n",
              "      <td>RG268</td>\n",
              "      <td>Other</td>\n",
              "      <td>X3</td>\n",
              "      <td>43</td>\n",
              "      <td>No</td>\n",
              "      <td>1045696</td>\n",
              "      <td>No</td>\n",
              "      <td>0.0</td>\n",
              "      <td>train</td>\n",
              "    </tr>\n",
              "    <tr>\n",
              "      <th>1</th>\n",
              "      <td>IDD62UNG</td>\n",
              "      <td>Female</td>\n",
              "      <td>30</td>\n",
              "      <td>RG277</td>\n",
              "      <td>Salaried</td>\n",
              "      <td>X1</td>\n",
              "      <td>32</td>\n",
              "      <td>No</td>\n",
              "      <td>581988</td>\n",
              "      <td>No</td>\n",
              "      <td>0.0</td>\n",
              "      <td>train</td>\n",
              "    </tr>\n",
              "    <tr>\n",
              "      <th>2</th>\n",
              "      <td>HD3DSEMC</td>\n",
              "      <td>Female</td>\n",
              "      <td>56</td>\n",
              "      <td>RG268</td>\n",
              "      <td>Self_Employed</td>\n",
              "      <td>X3</td>\n",
              "      <td>26</td>\n",
              "      <td>No</td>\n",
              "      <td>1484315</td>\n",
              "      <td>Yes</td>\n",
              "      <td>0.0</td>\n",
              "      <td>train</td>\n",
              "    </tr>\n",
              "    <tr>\n",
              "      <th>3</th>\n",
              "      <td>BF3NC7KV</td>\n",
              "      <td>Male</td>\n",
              "      <td>34</td>\n",
              "      <td>RG270</td>\n",
              "      <td>Salaried</td>\n",
              "      <td>X1</td>\n",
              "      <td>19</td>\n",
              "      <td>No</td>\n",
              "      <td>470454</td>\n",
              "      <td>No</td>\n",
              "      <td>0.0</td>\n",
              "      <td>train</td>\n",
              "    </tr>\n",
              "    <tr>\n",
              "      <th>4</th>\n",
              "      <td>TEASRWXV</td>\n",
              "      <td>Female</td>\n",
              "      <td>30</td>\n",
              "      <td>RG282</td>\n",
              "      <td>Salaried</td>\n",
              "      <td>X1</td>\n",
              "      <td>33</td>\n",
              "      <td>No</td>\n",
              "      <td>886787</td>\n",
              "      <td>No</td>\n",
              "      <td>0.0</td>\n",
              "      <td>train</td>\n",
              "    </tr>\n",
              "  </tbody>\n",
              "</table>\n",
              "</div>"
            ],
            "text/plain": [
              "         ID  Gender  Age  ... Is_Active Is_Lead   data\n",
              "0  NNVBBKZB  Female   73  ...        No     0.0  train\n",
              "1  IDD62UNG  Female   30  ...        No     0.0  train\n",
              "2  HD3DSEMC  Female   56  ...       Yes     0.0  train\n",
              "3  BF3NC7KV    Male   34  ...        No     0.0  train\n",
              "4  TEASRWXV  Female   30  ...        No     0.0  train\n",
              "\n",
              "[5 rows x 12 columns]"
            ]
          },
          "metadata": {
            "tags": []
          },
          "execution_count": 14
        }
      ]
    },
    {
      "cell_type": "code",
      "metadata": {
        "colab": {
          "base_uri": "https://localhost:8080/"
        },
        "id": "S5GiN7OHj9Hp",
        "outputId": "2c092146-1bf6-4387-be03-c2e9586d8425"
      },
      "source": [
        "ld_all.dtypes"
      ],
      "execution_count": 15,
      "outputs": [
        {
          "output_type": "execute_result",
          "data": {
            "text/plain": [
              "ID                      object\n",
              "Gender                  object\n",
              "Age                      int64\n",
              "Region_Code             object\n",
              "Occupation              object\n",
              "Channel_Code            object\n",
              "Vintage                  int64\n",
              "Credit_Product          object\n",
              "Avg_Account_Balance      int64\n",
              "Is_Active               object\n",
              "Is_Lead                float64\n",
              "data                    object\n",
              "dtype: object"
            ]
          },
          "metadata": {
            "tags": []
          },
          "execution_count": 15
        }
      ]
    },
    {
      "cell_type": "code",
      "metadata": {
        "colab": {
          "base_uri": "https://localhost:8080/"
        },
        "id": "-CbaZ4r6kEji",
        "outputId": "c21463f0-cb2e-40d3-cc95-64f375a8fd04"
      },
      "source": [
        "ld_all.nunique()"
      ],
      "execution_count": 16,
      "outputs": [
        {
          "output_type": "execute_result",
          "data": {
            "text/plain": [
              "ID                     351037\n",
              "Gender                      2\n",
              "Age                        63\n",
              "Region_Code                35\n",
              "Occupation                  4\n",
              "Channel_Code                4\n",
              "Vintage                    66\n",
              "Credit_Product              2\n",
              "Avg_Account_Balance    162137\n",
              "Is_Active                   2\n",
              "Is_Lead                     2\n",
              "data                        2\n",
              "dtype: int64"
            ]
          },
          "metadata": {
            "tags": []
          },
          "execution_count": 16
        }
      ]
    },
    {
      "cell_type": "code",
      "metadata": {
        "id": "-Z3fYOFykLLV"
      },
      "source": [
        "ld_all.drop(['ID'],axis=1,inplace=True)"
      ],
      "execution_count": 17,
      "outputs": []
    },
    {
      "cell_type": "code",
      "metadata": {
        "colab": {
          "base_uri": "https://localhost:8080/"
        },
        "id": "fIPgtIhBk5pk",
        "outputId": "886c8a52-85ac-49a1-c261-615787c23a95"
      },
      "source": [
        "ld_all.isnull().sum()"
      ],
      "execution_count": 18,
      "outputs": [
        {
          "output_type": "execute_result",
          "data": {
            "text/plain": [
              "Gender                      0\n",
              "Age                         0\n",
              "Region_Code                 0\n",
              "Occupation                  0\n",
              "Channel_Code                0\n",
              "Vintage                     0\n",
              "Credit_Product          41847\n",
              "Avg_Account_Balance         0\n",
              "Is_Active                   0\n",
              "Is_Lead                105312\n",
              "data                        0\n",
              "dtype: int64"
            ]
          },
          "metadata": {
            "tags": []
          },
          "execution_count": 18
        }
      ]
    },
    {
      "cell_type": "code",
      "metadata": {
        "colab": {
          "base_uri": "https://localhost:8080/"
        },
        "id": "ftZCriTXlB6q",
        "outputId": "b8d59dd5-6508-46af-cda8-57736c1fa7e9"
      },
      "source": [
        "ld_all.dtypes"
      ],
      "execution_count": 19,
      "outputs": [
        {
          "output_type": "execute_result",
          "data": {
            "text/plain": [
              "Gender                  object\n",
              "Age                      int64\n",
              "Region_Code             object\n",
              "Occupation              object\n",
              "Channel_Code            object\n",
              "Vintage                  int64\n",
              "Credit_Product          object\n",
              "Avg_Account_Balance      int64\n",
              "Is_Active               object\n",
              "Is_Lead                float64\n",
              "data                    object\n",
              "dtype: object"
            ]
          },
          "metadata": {
            "tags": []
          },
          "execution_count": 19
        }
      ]
    },
    {
      "cell_type": "code",
      "metadata": {
        "id": "UK9JcwdglINv"
      },
      "source": [
        "ld_all.loc[ld_all['Credit_Product'].isnull(),['Credit_Product']]='unknown'"
      ],
      "execution_count": 20,
      "outputs": []
    },
    {
      "cell_type": "code",
      "metadata": {
        "id": "et2IWnJtmpUi"
      },
      "source": [
        "cat_cols=ld_all.select_dtypes(['object']).columns"
      ],
      "execution_count": 21,
      "outputs": []
    },
    {
      "cell_type": "code",
      "metadata": {
        "colab": {
          "base_uri": "https://localhost:8080/"
        },
        "id": "x8jyb_jPmrMi",
        "outputId": "9045d84d-5952-465b-8d6d-c77106aa12a5"
      },
      "source": [
        "cat_cols"
      ],
      "execution_count": 22,
      "outputs": [
        {
          "output_type": "execute_result",
          "data": {
            "text/plain": [
              "Index(['Gender', 'Region_Code', 'Occupation', 'Channel_Code', 'Credit_Product',\n",
              "       'Is_Active', 'data'],\n",
              "      dtype='object')"
            ]
          },
          "metadata": {
            "tags": []
          },
          "execution_count": 22
        }
      ]
    },
    {
      "cell_type": "code",
      "metadata": {
        "id": "gwxJUc1Mmuxw"
      },
      "source": [
        "cat_cols=cat_cols[:-1]"
      ],
      "execution_count": 23,
      "outputs": []
    },
    {
      "cell_type": "code",
      "metadata": {
        "colab": {
          "base_uri": "https://localhost:8080/"
        },
        "id": "X1jsrThKm061",
        "outputId": "9411aee8-8b56-4d7d-c2f4-9ea1755ff8c6"
      },
      "source": [
        "cat_cols"
      ],
      "execution_count": 24,
      "outputs": [
        {
          "output_type": "execute_result",
          "data": {
            "text/plain": [
              "Index(['Gender', 'Region_Code', 'Occupation', 'Channel_Code', 'Credit_Product',\n",
              "       'Is_Active'],\n",
              "      dtype='object')"
            ]
          },
          "metadata": {
            "tags": []
          },
          "execution_count": 24
        }
      ]
    },
    {
      "cell_type": "code",
      "metadata": {
        "colab": {
          "base_uri": "https://localhost:8080/"
        },
        "id": "akmYo1Pam4Z4",
        "outputId": "76b93671-45fe-4c92-a481-20c29a9f4889"
      },
      "source": [
        "ld_all[\"Is_Active\"].value_counts()"
      ],
      "execution_count": 25,
      "outputs": [
        {
          "output_type": "execute_result",
          "data": {
            "text/plain": [
              "No     214087\n",
              "Yes    136950\n",
              "Name: Is_Active, dtype: int64"
            ]
          },
          "metadata": {
            "tags": []
          },
          "execution_count": 25
        }
      ]
    },
    {
      "cell_type": "code",
      "metadata": {
        "colab": {
          "base_uri": "https://localhost:8080/"
        },
        "id": "5ecqmNzunEhZ",
        "outputId": "1bbc0851-9873-4860-d0c3-0a988d692e92"
      },
      "source": [
        "#creating dummies based on frequency\n",
        "for col in cat_cols:\n",
        "    freqs=ld_all[col].value_counts()\n",
        "    k=freqs.index[freqs>15][:-1]\n",
        "    for cat in k:\n",
        "        name=col+'_'+cat\n",
        "        ld_all[name]=(ld_all[col]==cat).astype(int)\n",
        "    del ld_all[col]\n",
        "    print(col)"
      ],
      "execution_count": 26,
      "outputs": [
        {
          "output_type": "stream",
          "text": [
            "Gender\n",
            "Region_Code\n",
            "Occupation\n",
            "Channel_Code\n",
            "Credit_Product\n",
            "Is_Active\n"
          ],
          "name": "stdout"
        }
      ]
    },
    {
      "cell_type": "code",
      "metadata": {
        "colab": {
          "base_uri": "https://localhost:8080/"
        },
        "id": "lZ-jRCREn0X6",
        "outputId": "ae3ccf30-1f3b-431b-ded8-5753161b7172"
      },
      "source": [
        "#diving test and train data after prepocessing\n",
        "ld_train=ld_all[ld_all['data']=='train']\n",
        "del ld_train['data']\n",
        "ld_test=ld_all[ld_all['data']=='test']\n",
        "ld_test.drop(['Is_Lead','data'],axis=1,inplace=True)"
      ],
      "execution_count": 27,
      "outputs": [
        {
          "output_type": "stream",
          "text": [
            "/usr/local/lib/python3.7/dist-packages/pandas/core/frame.py:4174: SettingWithCopyWarning: \n",
            "A value is trying to be set on a copy of a slice from a DataFrame\n",
            "\n",
            "See the caveats in the documentation: https://pandas.pydata.org/pandas-docs/stable/user_guide/indexing.html#returning-a-view-versus-a-copy\n",
            "  errors=errors,\n"
          ],
          "name": "stderr"
        }
      ]
    },
    {
      "cell_type": "code",
      "metadata": {
        "colab": {
          "base_uri": "https://localhost:8080/"
        },
        "id": "2qtXxVnBoNeT",
        "outputId": "7373f375-bb93-4872-9d33-67c61faad706"
      },
      "source": [
        "ld_test.shape,ld_train.shape"
      ],
      "execution_count": 28,
      "outputs": [
        {
          "output_type": "execute_result",
          "data": {
            "text/plain": [
              "((105312, 47), (245725, 48))"
            ]
          },
          "metadata": {
            "tags": []
          },
          "execution_count": 28
        }
      ]
    },
    {
      "cell_type": "code",
      "metadata": {
        "id": "1lx77E-WoWBG"
      },
      "source": [
        "x_train=ld_train.drop('Is_Lead',axis=1)\n",
        "y_train=ld_train[\"Is_Lead\"]"
      ],
      "execution_count": null,
      "outputs": []
    },
    {
      "cell_type": "code",
      "metadata": {
        "colab": {
          "base_uri": "https://localhost:8080/"
        },
        "id": "y02pLlwKImHv",
        "outputId": "d19f4596-6907-4b67-b5a9-5f98892a34e2"
      },
      "source": [
        "! pip install -U lightautoml"
      ],
      "execution_count": 29,
      "outputs": [
        {
          "output_type": "stream",
          "text": [
            "Collecting lightautoml\n",
            "\u001b[?25l  Downloading https://files.pythonhosted.org/packages/01/b7/eddea00dbc08237ba75d0bff3926def73e3be81afc3d2e9f4652c24fd1e8/LightAutoML-0.2.14-py3-none-any.whl (250kB)\n",
            "\u001b[K     |████████████████████████████████| 256kB 5.0MB/s \n",
            "\u001b[?25hRequirement already satisfied, skipping upgrade: scikit-image in /usr/local/lib/python3.7/dist-packages (from lightautoml) (0.16.2)\n",
            "Collecting efficientnet-pytorch\n",
            "  Downloading https://files.pythonhosted.org/packages/2e/a0/dd40b50aebf0028054b6b35062948da01123d7be38d08b6b1e5435df6363/efficientnet_pytorch-0.7.1.tar.gz\n",
            "Requirement already satisfied, skipping upgrade: webencodings in /usr/local/lib/python3.7/dist-packages (from lightautoml) (0.5.1)\n",
            "Requirement already satisfied, skipping upgrade: holidays in /usr/local/lib/python3.7/dist-packages (from lightautoml) (0.10.5.2)\n",
            "Requirement already satisfied, skipping upgrade: pywavelets in /usr/local/lib/python3.7/dist-packages (from lightautoml) (1.1.1)\n",
            "Requirement already satisfied, skipping upgrade: jinja2 in /usr/local/lib/python3.7/dist-packages (from lightautoml) (2.11.3)\n",
            "Requirement already satisfied, skipping upgrade: nltk in /usr/local/lib/python3.7/dist-packages (from lightautoml) (3.2.5)\n",
            "Requirement already satisfied, skipping upgrade: seaborn in /usr/local/lib/python3.7/dist-packages (from lightautoml) (0.11.1)\n",
            "Requirement already satisfied, skipping upgrade: torch>=1.6 in /usr/local/lib/python3.7/dist-packages (from lightautoml) (1.8.1+cu101)\n",
            "Collecting cmaes\n",
            "  Downloading https://files.pythonhosted.org/packages/01/1f/43b01223a0366171f474320c6e966c39a11587287f098a5f09809b45e05f/cmaes-0.8.2-py3-none-any.whl\n",
            "Requirement already satisfied, skipping upgrade: torchvision in /usr/local/lib/python3.7/dist-packages (from lightautoml) (0.9.1+cu101)\n",
            "Requirement already satisfied, skipping upgrade: joblib in /usr/local/lib/python3.7/dist-packages (from lightautoml) (1.0.1)\n",
            "Collecting importlib-metadata<2.0,>=1.0; python_version < \"3.8\"\n",
            "  Downloading https://files.pythonhosted.org/packages/8e/58/cdea07eb51fc2b906db0968a94700866fc46249bdc75cac23f9d13168929/importlib_metadata-1.7.0-py2.py3-none-any.whl\n",
            "Collecting catboost\n",
            "\u001b[?25l  Downloading https://files.pythonhosted.org/packages/47/80/8e9c57ec32dfed6ba2922bc5c96462cbf8596ce1a6f5de532ad1e43e53fe/catboost-0.25.1-cp37-none-manylinux1_x86_64.whl (67.3MB)\n",
            "\u001b[K     |████████████████████████████████| 67.3MB 52kB/s \n",
            "\u001b[?25hRequirement already satisfied, skipping upgrade: opencv-python in /usr/local/lib/python3.7/dist-packages (from lightautoml) (4.1.2.30)\n",
            "Requirement already satisfied, skipping upgrade: scipy in /usr/local/lib/python3.7/dist-packages (from lightautoml) (1.4.1)\n",
            "Collecting poetry-core<2.0.0,>=1.0.0\n",
            "\u001b[?25l  Downloading https://files.pythonhosted.org/packages/bf/e1/08c7478df1e93dea47b06c9d9a80dbb54af7421462e1b22c280d063df807/poetry_core-1.0.3-py2.py3-none-any.whl (424kB)\n",
            "\u001b[K     |████████████████████████████████| 430kB 30.4MB/s \n",
            "\u001b[?25hRequirement already satisfied, skipping upgrade: numpy in /usr/local/lib/python3.7/dist-packages (from lightautoml) (1.19.5)\n",
            "Requirement already satisfied, skipping upgrade: networkx in /usr/local/lib/python3.7/dist-packages (from lightautoml) (2.5.1)\n",
            "Collecting json2html\n",
            "  Downloading https://files.pythonhosted.org/packages/01/d5/40b617ee19d2d79f606ed37f8a81e51158f126d2af67270c68f2b47ae0d5/json2html-1.3.0.tar.gz\n",
            "Collecting autowoe>=1.2\n",
            "\u001b[?25l  Downloading https://files.pythonhosted.org/packages/19/5e/5be453ce2daa804b09d5b2cd9c2819f449a163cb227c8b8172479388f4f4/AutoWoE-1.2.5-py3-none-any.whl (204kB)\n",
            "\u001b[K     |████████████████████████████████| 204kB 36.7MB/s \n",
            "\u001b[?25hCollecting transformers>=4\n",
            "\u001b[?25l  Downloading https://files.pythonhosted.org/packages/d5/43/cfe4ee779bbd6a678ac6a97c5a5cdeb03c35f9eaebbb9720b036680f9a2d/transformers-4.6.1-py3-none-any.whl (2.2MB)\n",
            "\u001b[K     |████████████████████████████████| 2.3MB 24.4MB/s \n",
            "\u001b[?25hCollecting albumentations>=0.4.6\n",
            "\u001b[?25l  Downloading https://files.pythonhosted.org/packages/03/58/63fb1d742dc42d9ba2800ea741de1f2bc6bb05548d8724aa84794042eaf2/albumentations-0.5.2-py3-none-any.whl (72kB)\n",
            "\u001b[K     |████████████████████████████████| 81kB 7.3MB/s \n",
            "\u001b[?25hCollecting lightgbm<3.0,>=2.3\n",
            "\u001b[?25l  Downloading https://files.pythonhosted.org/packages/0b/9d/ddcb2f43aca194987f1a99e27edf41cf9bc39ea750c3371c2a62698c509a/lightgbm-2.3.1-py2.py3-none-manylinux1_x86_64.whl (1.2MB)\n",
            "\u001b[K     |████████████████████████████████| 1.2MB 24.8MB/s \n",
            "\u001b[?25hRequirement already satisfied, skipping upgrade: tqdm in /usr/local/lib/python3.7/dist-packages (from lightautoml) (4.41.1)\n",
            "Collecting optuna\n",
            "\u001b[?25l  Downloading https://files.pythonhosted.org/packages/2b/21/d13081805e1e1afc71f5bb743ece324c8bd576237c51b899ecb38a717502/optuna-2.7.0-py3-none-any.whl (293kB)\n",
            "\u001b[K     |████████████████████████████████| 296kB 26.1MB/s \n",
            "\u001b[?25hRequirement already satisfied, skipping upgrade: gensim in /usr/local/lib/python3.7/dist-packages (from lightautoml) (3.6.0)\n",
            "Requirement already satisfied, skipping upgrade: pyyaml in /usr/local/lib/python3.7/dist-packages (from lightautoml) (3.13)\n",
            "Requirement already satisfied, skipping upgrade: pandas>=1 in /usr/local/lib/python3.7/dist-packages (from lightautoml) (1.1.5)\n",
            "Collecting log-calls\n",
            "\u001b[?25l  Downloading https://files.pythonhosted.org/packages/c5/e4/0163ac51514932824ae8962a2852ff46971aeed2e2a3dbd8717aaa8ace1a/log_calls-0.3.2.tar.gz (232kB)\n",
            "\u001b[K     |████████████████████████████████| 235kB 36.2MB/s \n",
            "\u001b[?25hRequirement already satisfied, skipping upgrade: scikit-learn>=0.22 in /usr/local/lib/python3.7/dist-packages (from lightautoml) (0.22.2.post1)\n",
            "Requirement already satisfied, skipping upgrade: pillow>=4.3.0 in /usr/local/lib/python3.7/dist-packages (from scikit-image->lightautoml) (7.1.2)\n",
            "Requirement already satisfied, skipping upgrade: imageio>=2.3.0 in /usr/local/lib/python3.7/dist-packages (from scikit-image->lightautoml) (2.4.1)\n",
            "Requirement already satisfied, skipping upgrade: matplotlib!=3.0.0,>=2.0.0 in /usr/local/lib/python3.7/dist-packages (from scikit-image->lightautoml) (3.2.2)\n",
            "Requirement already satisfied, skipping upgrade: korean-lunar-calendar in /usr/local/lib/python3.7/dist-packages (from holidays->lightautoml) (0.2.1)\n",
            "Requirement already satisfied, skipping upgrade: hijri-converter in /usr/local/lib/python3.7/dist-packages (from holidays->lightautoml) (2.1.1)\n",
            "Requirement already satisfied, skipping upgrade: convertdate>=2.3.0 in /usr/local/lib/python3.7/dist-packages (from holidays->lightautoml) (2.3.2)\n",
            "Requirement already satisfied, skipping upgrade: six in /usr/local/lib/python3.7/dist-packages (from holidays->lightautoml) (1.15.0)\n",
            "Requirement already satisfied, skipping upgrade: python-dateutil in /usr/local/lib/python3.7/dist-packages (from holidays->lightautoml) (2.8.1)\n",
            "Requirement already satisfied, skipping upgrade: MarkupSafe>=0.23 in /usr/local/lib/python3.7/dist-packages (from jinja2->lightautoml) (2.0.1)\n",
            "Requirement already satisfied, skipping upgrade: typing-extensions in /usr/local/lib/python3.7/dist-packages (from torch>=1.6->lightautoml) (3.7.4.3)\n",
            "Requirement already satisfied, skipping upgrade: zipp>=0.5 in /usr/local/lib/python3.7/dist-packages (from importlib-metadata<2.0,>=1.0; python_version < \"3.8\"->lightautoml) (3.4.1)\n",
            "Requirement already satisfied, skipping upgrade: plotly in /usr/local/lib/python3.7/dist-packages (from catboost->lightautoml) (4.4.1)\n",
            "Requirement already satisfied, skipping upgrade: graphviz in /usr/local/lib/python3.7/dist-packages (from catboost->lightautoml) (0.10.1)\n",
            "Requirement already satisfied, skipping upgrade: decorator<5,>=4.3 in /usr/local/lib/python3.7/dist-packages (from networkx->lightautoml) (4.4.2)\n",
            "Requirement already satisfied, skipping upgrade: sphinx in /usr/local/lib/python3.7/dist-packages (from autowoe>=1.2->lightautoml) (1.8.5)\n",
            "Requirement already satisfied, skipping upgrade: pytz in /usr/local/lib/python3.7/dist-packages (from autowoe>=1.2->lightautoml) (2018.9)\n",
            "Requirement already satisfied, skipping upgrade: pytest in /usr/local/lib/python3.7/dist-packages (from autowoe>=1.2->lightautoml) (3.6.4)\n",
            "Collecting sphinx-rtd-theme\n",
            "\u001b[?25l  Downloading https://files.pythonhosted.org/packages/ac/24/2475e8f83519b54b2148d4a56eb1111f9cec630d088c3ffc214492c12107/sphinx_rtd_theme-0.5.2-py2.py3-none-any.whl (9.1MB)\n",
            "\u001b[K     |████████████████████████████████| 9.2MB 25.4MB/s \n",
            "\u001b[?25hCollecting sacremoses\n",
            "\u001b[?25l  Downloading https://files.pythonhosted.org/packages/75/ee/67241dc87f266093c533a2d4d3d69438e57d7a90abb216fa076e7d475d4a/sacremoses-0.0.45-py3-none-any.whl (895kB)\n",
            "\u001b[K     |████████████████████████████████| 901kB 27.6MB/s \n",
            "\u001b[?25hRequirement already satisfied, skipping upgrade: regex!=2019.12.17 in /usr/local/lib/python3.7/dist-packages (from transformers>=4->lightautoml) (2019.12.20)\n",
            "Requirement already satisfied, skipping upgrade: requests in /usr/local/lib/python3.7/dist-packages (from transformers>=4->lightautoml) (2.23.0)\n",
            "Collecting huggingface-hub==0.0.8\n",
            "  Downloading https://files.pythonhosted.org/packages/a1/88/7b1e45720ecf59c6c6737ff332f41c955963090a18e72acbcbeac6b25e86/huggingface_hub-0.0.8-py3-none-any.whl\n",
            "Collecting tokenizers<0.11,>=0.10.1\n",
            "\u001b[?25l  Downloading https://files.pythonhosted.org/packages/d4/e2/df3543e8ffdab68f5acc73f613de9c2b155ac47f162e725dcac87c521c11/tokenizers-0.10.3-cp37-cp37m-manylinux_2_5_x86_64.manylinux1_x86_64.manylinux_2_12_x86_64.manylinux2010_x86_64.whl (3.3MB)\n",
            "\u001b[K     |████████████████████████████████| 3.3MB 26.5MB/s \n",
            "\u001b[?25hRequirement already satisfied, skipping upgrade: filelock in /usr/local/lib/python3.7/dist-packages (from transformers>=4->lightautoml) (3.0.12)\n",
            "Requirement already satisfied, skipping upgrade: packaging in /usr/local/lib/python3.7/dist-packages (from transformers>=4->lightautoml) (20.9)\n",
            "Collecting opencv-python-headless>=4.1.1\n",
            "\u001b[?25l  Downloading https://files.pythonhosted.org/packages/c8/84/72ec52fbac4775c2a5bf0ee5573c922a0cac35eb841907edf56493a5e313/opencv_python_headless-4.5.2.52-cp37-cp37m-manylinux2014_x86_64.whl (38.2MB)\n",
            "\u001b[K     |████████████████████████████████| 38.2MB 83kB/s \n",
            "\u001b[?25hCollecting imgaug>=0.4.0\n",
            "\u001b[?25l  Downloading https://files.pythonhosted.org/packages/66/b1/af3142c4a85cba6da9f4ebb5ff4e21e2616309552caca5e8acefe9840622/imgaug-0.4.0-py2.py3-none-any.whl (948kB)\n",
            "\u001b[K     |████████████████████████████████| 952kB 29.5MB/s \n",
            "\u001b[?25hCollecting colorlog\n",
            "  Downloading https://files.pythonhosted.org/packages/32/e6/e9ddc6fa1104fda718338b341e4b3dc31cd8039ab29e52fc73b508515361/colorlog-5.0.1-py2.py3-none-any.whl\n",
            "Collecting alembic\n",
            "\u001b[?25l  Downloading https://files.pythonhosted.org/packages/d5/80/ef186e599a57d0e4cb78fc76e0bfc2e6953fa9716b2a5cf2de0117ed8eb5/alembic-1.6.5-py2.py3-none-any.whl (164kB)\n",
            "\u001b[K     |████████████████████████████████| 174kB 34.5MB/s \n",
            "\u001b[?25hRequirement already satisfied, skipping upgrade: sqlalchemy>=1.1.0 in /usr/local/lib/python3.7/dist-packages (from optuna->lightautoml) (1.4.15)\n",
            "Collecting cliff\n",
            "\u001b[?25l  Downloading https://files.pythonhosted.org/packages/87/11/aea1cacbd4cf8262809c4d6f95dcb3f2802594de1f51c5bd454d69bf15c5/cliff-3.8.0-py3-none-any.whl (80kB)\n",
            "\u001b[K     |████████████████████████████████| 81kB 6.9MB/s \n",
            "\u001b[?25hRequirement already satisfied, skipping upgrade: smart-open>=1.2.1 in /usr/local/lib/python3.7/dist-packages (from gensim->lightautoml) (5.0.0)\n",
            "Requirement already satisfied, skipping upgrade: kiwisolver>=1.0.1 in /usr/local/lib/python3.7/dist-packages (from matplotlib!=3.0.0,>=2.0.0->scikit-image->lightautoml) (1.3.1)\n",
            "Requirement already satisfied, skipping upgrade: cycler>=0.10 in /usr/local/lib/python3.7/dist-packages (from matplotlib!=3.0.0,>=2.0.0->scikit-image->lightautoml) (0.10.0)\n",
            "Requirement already satisfied, skipping upgrade: pyparsing!=2.0.4,!=2.1.2,!=2.1.6,>=2.0.1 in /usr/local/lib/python3.7/dist-packages (from matplotlib!=3.0.0,>=2.0.0->scikit-image->lightautoml) (2.4.7)\n",
            "Requirement already satisfied, skipping upgrade: pymeeus<=1,>=0.3.13 in /usr/local/lib/python3.7/dist-packages (from convertdate>=2.3.0->holidays->lightautoml) (0.5.11)\n",
            "Requirement already satisfied, skipping upgrade: retrying>=1.3.3 in /usr/local/lib/python3.7/dist-packages (from plotly->catboost->lightautoml) (1.3.3)\n",
            "Requirement already satisfied, skipping upgrade: Pygments>=2.0 in /usr/local/lib/python3.7/dist-packages (from sphinx->autowoe>=1.2->lightautoml) (2.6.1)\n",
            "Requirement already satisfied, skipping upgrade: docutils>=0.11 in /usr/local/lib/python3.7/dist-packages (from sphinx->autowoe>=1.2->lightautoml) (0.17.1)\n",
            "Requirement already satisfied, skipping upgrade: imagesize in /usr/local/lib/python3.7/dist-packages (from sphinx->autowoe>=1.2->lightautoml) (1.2.0)\n",
            "Requirement already satisfied, skipping upgrade: sphinxcontrib-websupport in /usr/local/lib/python3.7/dist-packages (from sphinx->autowoe>=1.2->lightautoml) (1.2.4)\n",
            "Requirement already satisfied, skipping upgrade: snowballstemmer>=1.1 in /usr/local/lib/python3.7/dist-packages (from sphinx->autowoe>=1.2->lightautoml) (2.1.0)\n",
            "Requirement already satisfied, skipping upgrade: setuptools in /usr/local/lib/python3.7/dist-packages (from sphinx->autowoe>=1.2->lightautoml) (56.1.0)\n",
            "Requirement already satisfied, skipping upgrade: babel!=2.0,>=1.3 in /usr/local/lib/python3.7/dist-packages (from sphinx->autowoe>=1.2->lightautoml) (2.9.1)\n",
            "Requirement already satisfied, skipping upgrade: alabaster<0.8,>=0.7 in /usr/local/lib/python3.7/dist-packages (from sphinx->autowoe>=1.2->lightautoml) (0.7.12)\n",
            "Requirement already satisfied, skipping upgrade: atomicwrites>=1.0 in /usr/local/lib/python3.7/dist-packages (from pytest->autowoe>=1.2->lightautoml) (1.4.0)\n",
            "Requirement already satisfied, skipping upgrade: attrs>=17.4.0 in /usr/local/lib/python3.7/dist-packages (from pytest->autowoe>=1.2->lightautoml) (21.2.0)\n",
            "Requirement already satisfied, skipping upgrade: pluggy<0.8,>=0.5 in /usr/local/lib/python3.7/dist-packages (from pytest->autowoe>=1.2->lightautoml) (0.7.1)\n",
            "Requirement already satisfied, skipping upgrade: py>=1.5.0 in /usr/local/lib/python3.7/dist-packages (from pytest->autowoe>=1.2->lightautoml) (1.10.0)\n",
            "Requirement already satisfied, skipping upgrade: more-itertools>=4.0.0 in /usr/local/lib/python3.7/dist-packages (from pytest->autowoe>=1.2->lightautoml) (8.7.0)\n",
            "Requirement already satisfied, skipping upgrade: click in /usr/local/lib/python3.7/dist-packages (from sacremoses->transformers>=4->lightautoml) (7.1.2)\n",
            "Requirement already satisfied, skipping upgrade: urllib3!=1.25.0,!=1.25.1,<1.26,>=1.21.1 in /usr/local/lib/python3.7/dist-packages (from requests->transformers>=4->lightautoml) (1.24.3)\n",
            "Requirement already satisfied, skipping upgrade: certifi>=2017.4.17 in /usr/local/lib/python3.7/dist-packages (from requests->transformers>=4->lightautoml) (2020.12.5)\n",
            "Requirement already satisfied, skipping upgrade: idna<3,>=2.5 in /usr/local/lib/python3.7/dist-packages (from requests->transformers>=4->lightautoml) (2.10)\n",
            "Requirement already satisfied, skipping upgrade: chardet<4,>=3.0.2 in /usr/local/lib/python3.7/dist-packages (from requests->transformers>=4->lightautoml) (3.0.4)\n",
            "Requirement already satisfied, skipping upgrade: Shapely in /usr/local/lib/python3.7/dist-packages (from imgaug>=0.4.0->albumentations>=0.4.6->lightautoml) (1.7.1)\n",
            "Collecting python-editor>=0.3\n",
            "  Downloading https://files.pythonhosted.org/packages/c6/d3/201fc3abe391bbae6606e6f1d598c15d367033332bd54352b12f35513717/python_editor-1.0.4-py3-none-any.whl\n",
            "Collecting Mako\n",
            "\u001b[?25l  Downloading https://files.pythonhosted.org/packages/f3/54/dbc07fbb20865d3b78fdb7cf7fa713e2cba4f87f71100074ef2dc9f9d1f7/Mako-1.1.4-py2.py3-none-any.whl (75kB)\n",
            "\u001b[K     |████████████████████████████████| 81kB 7.9MB/s \n",
            "\u001b[?25hRequirement already satisfied, skipping upgrade: greenlet!=0.4.17; python_version >= \"3\" in /usr/local/lib/python3.7/dist-packages (from sqlalchemy>=1.1.0->optuna->lightautoml) (1.1.0)\n",
            "Requirement already satisfied, skipping upgrade: PrettyTable>=0.7.2 in /usr/local/lib/python3.7/dist-packages (from cliff->optuna->lightautoml) (2.1.0)\n",
            "Collecting cmd2>=1.0.0\n",
            "\u001b[?25l  Downloading https://files.pythonhosted.org/packages/15/8b/15061b32332bb35ea2a2f6263d0f616779d576e82739ec8e7fcf3c94abf5/cmd2-1.5.0-py3-none-any.whl (133kB)\n",
            "\u001b[K     |████████████████████████████████| 143kB 41.2MB/s \n",
            "\u001b[?25hCollecting stevedore>=2.0.1\n",
            "\u001b[?25l  Downloading https://files.pythonhosted.org/packages/d4/49/b602307aeac3df3384ff1fcd05da9c0376c622a6c48bb5325f28ab165b57/stevedore-3.3.0-py3-none-any.whl (49kB)\n",
            "\u001b[K     |████████████████████████████████| 51kB 4.9MB/s \n",
            "\u001b[?25hCollecting pbr!=2.1.0,>=2.0.0\n",
            "\u001b[?25l  Downloading https://files.pythonhosted.org/packages/18/e0/1d4702dd81121d04a477c272d47ee5b6bc970d1a0990b11befa275c55cf2/pbr-5.6.0-py2.py3-none-any.whl (111kB)\n",
            "\u001b[K     |████████████████████████████████| 112kB 45.7MB/s \n",
            "\u001b[?25hRequirement already satisfied, skipping upgrade: sphinxcontrib-serializinghtml in /usr/local/lib/python3.7/dist-packages (from sphinxcontrib-websupport->sphinx->autowoe>=1.2->lightautoml) (1.1.4)\n",
            "Requirement already satisfied, skipping upgrade: wcwidth in /usr/local/lib/python3.7/dist-packages (from PrettyTable>=0.7.2->cliff->optuna->lightautoml) (0.2.5)\n",
            "Collecting colorama>=0.3.7\n",
            "  Downloading https://files.pythonhosted.org/packages/44/98/5b86278fbbf250d239ae0ecb724f8572af1c91f4a11edf4d36a206189440/colorama-0.4.4-py2.py3-none-any.whl\n",
            "Collecting pyperclip>=1.6\n",
            "  Downloading https://files.pythonhosted.org/packages/a7/2c/4c64579f847bd5d539803c8b909e54ba087a79d01bb3aba433a95879a6c5/pyperclip-1.8.2.tar.gz\n",
            "Building wheels for collected packages: efficientnet-pytorch, json2html, log-calls, pyperclip\n",
            "  Building wheel for efficientnet-pytorch (setup.py) ... \u001b[?25l\u001b[?25hdone\n",
            "  Created wheel for efficientnet-pytorch: filename=efficientnet_pytorch-0.7.1-cp37-none-any.whl size=16443 sha256=25e98ab08eb8222cb119bd5b5be9df14531f23ed8d16c5afcb4cf3cdb59105d5\n",
            "  Stored in directory: /root/.cache/pip/wheels/84/27/aa/c46d23c4e8cc72d41283862b1437e0b3ad318417e8ed7d5921\n",
            "  Building wheel for json2html (setup.py) ... \u001b[?25l\u001b[?25hdone\n",
            "  Created wheel for json2html: filename=json2html-1.3.0-cp37-none-any.whl size=7594 sha256=1ef705b58d2af86c4837ad9cbbbbeee454a02960f28da26dc9594b4651bd0196\n",
            "  Stored in directory: /root/.cache/pip/wheels/58/36/ad/386be30507bcb8f0c9830004bd776132eba63c1b945ed79255\n",
            "  Building wheel for log-calls (setup.py) ... \u001b[?25l\u001b[?25hdone\n",
            "  Created wheel for log-calls: filename=log_calls-0.3.2-cp37-none-any.whl size=51827 sha256=0669381279230e399e138e99da9ce1a588036e0bb01e979cd3a83abf2e68f0f1\n",
            "  Stored in directory: /root/.cache/pip/wheels/86/df/f7/db7e08f521e151e8d9abd7824845480b78a636d95237c601a4\n",
            "  Building wheel for pyperclip (setup.py) ... \u001b[?25l\u001b[?25hdone\n",
            "  Created wheel for pyperclip: filename=pyperclip-1.8.2-cp37-none-any.whl size=11107 sha256=9039d4918774c69acb82e6b4d1851536e4b867a041da8feed91f2673daf3aea7\n",
            "  Stored in directory: /root/.cache/pip/wheels/25/af/b8/3407109267803f4015e1ee2ff23be0c8c19ce4008665931ee1\n",
            "Successfully built efficientnet-pytorch json2html log-calls pyperclip\n",
            "\u001b[31mERROR: sphinx-rtd-theme 0.5.2 has requirement docutils<0.17, but you'll have docutils 0.17.1 which is incompatible.\u001b[0m\n",
            "Installing collected packages: efficientnet-pytorch, cmaes, importlib-metadata, catboost, poetry-core, json2html, lightgbm, sphinx-rtd-theme, autowoe, sacremoses, huggingface-hub, tokenizers, transformers, opencv-python-headless, imgaug, albumentations, colorlog, python-editor, Mako, alembic, colorama, pyperclip, cmd2, pbr, stevedore, cliff, optuna, log-calls, lightautoml\n",
            "  Found existing installation: importlib-metadata 4.0.1\n",
            "    Uninstalling importlib-metadata-4.0.1:\n",
            "      Successfully uninstalled importlib-metadata-4.0.1\n",
            "  Found existing installation: lightgbm 2.2.3\n",
            "    Uninstalling lightgbm-2.2.3:\n",
            "      Successfully uninstalled lightgbm-2.2.3\n",
            "  Found existing installation: imgaug 0.2.9\n",
            "    Uninstalling imgaug-0.2.9:\n",
            "      Successfully uninstalled imgaug-0.2.9\n",
            "  Found existing installation: albumentations 0.1.12\n",
            "    Uninstalling albumentations-0.1.12:\n",
            "      Successfully uninstalled albumentations-0.1.12\n",
            "Successfully installed Mako-1.1.4 albumentations-0.5.2 alembic-1.6.5 autowoe-1.2.5 catboost-0.25.1 cliff-3.8.0 cmaes-0.8.2 cmd2-1.5.0 colorama-0.4.4 colorlog-5.0.1 efficientnet-pytorch-0.7.1 huggingface-hub-0.0.8 imgaug-0.4.0 importlib-metadata-1.7.0 json2html-1.3.0 lightautoml-0.2.14 lightgbm-2.3.1 log-calls-0.3.2 opencv-python-headless-4.5.2.52 optuna-2.7.0 pbr-5.6.0 poetry-core-1.0.3 pyperclip-1.8.2 python-editor-1.0.4 sacremoses-0.0.45 sphinx-rtd-theme-0.5.2 stevedore-3.3.0 tokenizers-0.10.3 transformers-4.6.1\n"
          ],
          "name": "stdout"
        }
      ]
    },
    {
      "cell_type": "code",
      "metadata": {
        "colab": {
          "base_uri": "https://localhost:8080/"
        },
        "id": "yJcWTkixImEs",
        "outputId": "0d02571d-92fd-4a7a-a715-f8f0b0e156ba"
      },
      "source": [
        "# Standard python libraries\n",
        "import logging\n",
        "import os\n",
        "import time\n",
        "import requests\n",
        "logging.basicConfig(format='[%(asctime)s] (%(levelname)s): %(message)s', level=logging.INFO)\n",
        "\n",
        "# Installed libraries\n",
        "import numpy as np\n",
        "import pandas as pd\n",
        "from sklearn.metrics import roc_auc_score\n",
        "from sklearn.model_selection import train_test_split\n",
        "import torch\n",
        "\n",
        "# Imports from our package\n",
        "from lightautoml.automl.presets.tabular_presets import TabularAutoML, TabularUtilizedAutoML\n",
        "from lightautoml.dataset.roles import DatetimeRole\n",
        "from lightautoml.tasks import Task\n",
        "from lightautoml.utils.profiler import Profiler"
      ],
      "execution_count": 30,
      "outputs": [
        {
          "output_type": "stream",
          "text": [
            "[2021-05-31 07:12:48,722] (INFO): 'pattern' package not found; tag filters are not available for English\n"
          ],
          "name": "stderr"
        }
      ]
    },
    {
      "cell_type": "code",
      "metadata": {
        "id": "qypAAfipImAf"
      },
      "source": [
        "N_THREADS = 8 # threads cnt for lgbm and linear models\n",
        "N_FOLDS = 5 # folds cnt for AutoML\n",
        "RANDOM_STATE = 42 # fixed random state for various reasons\n",
        "TEST_SIZE = 0.2 # Test size for metric check\n",
        "TIMEOUT = 1200 # Time in seconds for automl run\n",
        "TARGET_NAME = \"Is_Lead\" # Target column name"
      ],
      "execution_count": 31,
      "outputs": []
    },
    {
      "cell_type": "code",
      "metadata": {
        "id": "SICFkARfIl-o"
      },
      "source": [
        "np.random.seed(RANDOM_STATE)\n",
        "torch.set_num_threads(N_THREADS)"
      ],
      "execution_count": 32,
      "outputs": []
    },
    {
      "cell_type": "code",
      "metadata": {
        "colab": {
          "base_uri": "https://localhost:8080/"
        },
        "id": "WKXYfBPzIl43",
        "outputId": "28371766-5f38-4206-8b70-9add1b5e965e"
      },
      "source": [
        "train_data, test_data = train_test_split(ld_train, \n",
        "                                         test_size=TEST_SIZE, \n",
        "                                         stratify=ld_train[TARGET_NAME], \n",
        "                                         random_state=RANDOM_STATE)\n",
        "logging.info('Data splitted. Parts sizes: train_data = {}, test_data = {}'\n",
        "              .format(train_data.shape, test_data.shape))"
      ],
      "execution_count": 33,
      "outputs": [
        {
          "output_type": "stream",
          "text": [
            "[2021-05-31 07:12:54,721] (INFO): Data splitted. Parts sizes: train_data = (196580, 48), test_data = (49145, 48)\n"
          ],
          "name": "stderr"
        }
      ]
    },
    {
      "cell_type": "code",
      "metadata": {
        "colab": {
          "base_uri": "https://localhost:8080/"
        },
        "id": "h16EBLf3Il2G",
        "outputId": "5c507e5f-9b0b-4fe6-b5a5-7ec9ac572534"
      },
      "source": [
        "%%time\n",
        "\n",
        "task = Task('binary', )"
      ],
      "execution_count": 34,
      "outputs": [
        {
          "output_type": "stream",
          "text": [
            "CPU times: user 3.55 ms, sys: 0 ns, total: 3.55 ms\n",
            "Wall time: 3.55 ms\n"
          ],
          "name": "stdout"
        }
      ]
    },
    {
      "cell_type": "code",
      "metadata": {
        "colab": {
          "base_uri": "https://localhost:8080/"
        },
        "id": "oznD_n3eIlzc",
        "outputId": "f0f4f499-29ca-40ab-9f0c-4e337284fb1d"
      },
      "source": [
        "%%time\n",
        "\n",
        "roles = {'target': TARGET_NAME,\n",
        "         }"
      ],
      "execution_count": 35,
      "outputs": [
        {
          "output_type": "stream",
          "text": [
            "CPU times: user 5 µs, sys: 1 µs, total: 6 µs\n",
            "Wall time: 11.2 µs\n"
          ],
          "name": "stdout"
        }
      ]
    },
    {
      "cell_type": "code",
      "metadata": {
        "id": "03iFGJmsqdVp"
      },
      "source": [
        "from sklearn.metrics import roc_auc_score"
      ],
      "execution_count": 37,
      "outputs": []
    },
    {
      "cell_type": "code",
      "metadata": {
        "colab": {
          "base_uri": "https://localhost:8080/"
        },
        "id": "RDHclf7cIlwI",
        "outputId": "a1e97ea8-e346-4b35-a2a8-ec637d032554"
      },
      "source": [
        "%%time \n",
        "\n",
        "automl = TabularAutoML(task = task, \n",
        "                       timeout = TIMEOUT,\n",
        "                       cpu_limit = N_THREADS,\n",
        "                       reader_params = {'n_jobs': N_THREADS, 'cv': N_FOLDS, 'random_state': RANDOM_STATE},\n",
        "                      )\n",
        "oof_pred = automl.fit_predict(train_data, roles = roles)\n",
        "logging.info('oof_pred:\\n{}\\nShape = {}'.format(oof_pred, oof_pred.shape))"
      ],
      "execution_count": 36,
      "outputs": [
        {
          "output_type": "stream",
          "text": [
            "Copying TaskTimer may affect the parent PipelineTimer, so copy will create new unlimited TaskTimer\n"
          ],
          "name": "stderr"
        },
        {
          "output_type": "stream",
          "text": [
            "Start automl preset with listed constraints:\n",
            "- time: 1200 seconds\n",
            "- cpus: 8 cores\n",
            "- memory: 16 gb\n",
            "\n",
            "Train data shape: (196580, 48)\n",
            "Feats was rejected during automatic roles guess: []\n",
            "\n",
            "\n",
            "Layer 1 ...\n",
            "Train process start. Time left 1179.9264340400696 secs\n",
            "Start fitting Lvl_0_Pipe_0_Mod_0_LinearL2 ...\n",
            "\n",
            "===== Start working with fold 0 for Lvl_0_Pipe_0_Mod_0_LinearL2 =====\n",
            "\n",
            "Linear model: C = 1e-05 score = 0.8205611910668342\n",
            "Linear model: C = 5e-05 score = 0.8502225078671946\n",
            "Linear model: C = 0.0001 score = 0.8540746014630511\n",
            "Linear model: C = 0.0005 score = 0.8551198923481321\n",
            "Linear model: C = 0.001 score = 0.8550088860129729\n",
            "Linear model: C = 0.005 score = 0.8548171232572557\n",
            "\n",
            "===== Start working with fold 1 for Lvl_0_Pipe_0_Mod_0_LinearL2 =====\n",
            "\n",
            "Linear model: C = 1e-05 score = 0.820285309199857\n",
            "Linear model: C = 5e-05 score = 0.8541283973634217\n",
            "Linear model: C = 0.0001 score = 0.8596028077698643\n",
            "Linear model: C = 0.0005 score = 0.8622790644275806\n",
            "Linear model: C = 0.001 score = 0.8623925378085497\n",
            "Linear model: C = 0.005 score = 0.862438803856057\n",
            "Linear model: C = 0.01 score = 0.862438803856057\n",
            "Linear model: C = 0.05 score = 0.8624388360349153\n",
            "Linear model: C = 0.1 score = 0.8624316440600652\n",
            "Linear model: C = 0.5 score = 0.8624316440600652\n",
            "\n",
            "===== Start working with fold 2 for Lvl_0_Pipe_0_Mod_0_LinearL2 =====\n",
            "\n",
            "Linear model: C = 1e-05 score = 0.8230671768708091\n",
            "Linear model: C = 5e-05 score = 0.8553004622242728\n",
            "Linear model: C = 0.0001 score = 0.8604925603552032\n",
            "Linear model: C = 0.0005 score = 0.8624311005949012\n",
            "Linear model: C = 0.001 score = 0.862350152888907\n",
            "Linear model: C = 0.005 score = 0.8621558086736612\n",
            "\n",
            "===== Start working with fold 3 for Lvl_0_Pipe_0_Mod_0_LinearL2 =====\n",
            "\n",
            "Linear model: C = 1e-05 score = 0.8151714128456716\n",
            "Linear model: C = 5e-05 score = 0.8456139447297358\n",
            "Linear model: C = 0.0001 score = 0.8499676852753192\n",
            "Linear model: C = 0.0005 score = 0.8516869891650923\n",
            "Linear model: C = 0.001 score = 0.8516870767630957\n",
            "Linear model: C = 0.005 score = 0.8516252057569837\n",
            "Linear model: C = 0.01 score = 0.8516252057569837\n",
            "\n",
            "===== Start working with fold 4 for Lvl_0_Pipe_0_Mod_0_LinearL2 =====\n",
            "\n",
            "Linear model: C = 1e-05 score = 0.8204930326693358\n",
            "Linear model: C = 5e-05 score = 0.8533154575007738\n",
            "Linear model: C = 0.0001 score = 0.8585220522074088\n",
            "Linear model: C = 0.0005 score = 0.8607083696567095\n",
            "Linear model: C = 0.001 score = 0.860733149165384\n",
            "Linear model: C = 0.005 score = 0.8607187991822566\n",
            "Linear model: C = 0.01 score = 0.8607187991822566\n",
            "Lvl_0_Pipe_0_Mod_0_LinearL2 fitting and predicting completed\n",
            "Time left 1165.6609165668488\n",
            "Start fitting Selector_LightGBM ...\n",
            "\n",
            "===== Start working with fold 0 for Selector_LightGBM =====\n",
            "\n",
            "Training until validation scores don't improve for 100 rounds\n",
            "[100]\tvalid's auc: 0.872063\n",
            "[200]\tvalid's auc: 0.871068\n",
            "Early stopping, best iteration is:\n",
            "[107]\tvalid's auc: 0.872188\n",
            "Selector_LightGBM fitting and predicting completed\n",
            "Start fitting Lvl_0_Pipe_1_Mod_0_LightGBM ...\n",
            "\n",
            "===== Start working with fold 0 for Lvl_0_Pipe_1_Mod_0_LightGBM =====\n",
            "\n",
            "Training until validation scores don't improve for 100 rounds\n",
            "[100]\tvalid's auc: 0.871749\n",
            "[200]\tvalid's auc: 0.871469\n",
            "Early stopping, best iteration is:\n",
            "[121]\tvalid's auc: 0.872017\n",
            "\n",
            "===== Start working with fold 1 for Lvl_0_Pipe_1_Mod_0_LightGBM =====\n",
            "\n",
            "Training until validation scores don't improve for 100 rounds\n",
            "[100]\tvalid's auc: 0.876558\n",
            "[200]\tvalid's auc: 0.87669\n",
            "Early stopping, best iteration is:\n",
            "[196]\tvalid's auc: 0.876721\n",
            "\n",
            "===== Start working with fold 2 for Lvl_0_Pipe_1_Mod_0_LightGBM =====\n",
            "\n",
            "Training until validation scores don't improve for 100 rounds\n",
            "[100]\tvalid's auc: 0.87798\n",
            "[200]\tvalid's auc: 0.877736\n",
            "Early stopping, best iteration is:\n",
            "[115]\tvalid's auc: 0.878176\n",
            "\n",
            "===== Start working with fold 3 for Lvl_0_Pipe_1_Mod_0_LightGBM =====\n",
            "\n",
            "Training until validation scores don't improve for 100 rounds\n",
            "[100]\tvalid's auc: 0.866989\n",
            "Early stopping, best iteration is:\n",
            "[98]\tvalid's auc: 0.867097\n",
            "\n",
            "===== Start working with fold 4 for Lvl_0_Pipe_1_Mod_0_LightGBM =====\n",
            "\n",
            "Training until validation scores don't improve for 100 rounds\n",
            "[100]\tvalid's auc: 0.876017\n",
            "[200]\tvalid's auc: 0.875772\n",
            "Early stopping, best iteration is:\n",
            "[114]\tvalid's auc: 0.876019\n",
            "Lvl_0_Pipe_1_Mod_0_LightGBM fitting and predicting completed\n",
            "Optuna may run 105.53492071411824 secs\n"
          ],
          "name": "stdout"
        },
        {
          "output_type": "stream",
          "text": [
            "[2021-05-31 07:15:37,890] (INFO): A new study created in memory with name: no-name-abcd0d0c-0a07-44de-b92d-3240c8958d5f\n"
          ],
          "name": "stderr"
        },
        {
          "output_type": "stream",
          "text": [
            "Start fitting Lvl_0_Pipe_1_Mod_1_LightGBM ...\n",
            "\n",
            "===== Start working with fold 0 for Lvl_0_Pipe_1_Mod_1_LightGBM =====\n",
            "\n",
            "Training until validation scores don't improve for 100 rounds\n",
            "[100]\tvalid's auc: 0.871707\n",
            "Early stopping, best iteration is:\n",
            "[74]\tvalid's auc: 0.871803\n",
            "Lvl_0_Pipe_1_Mod_1_LightGBM fitting and predicting completed\n"
          ],
          "name": "stdout"
        },
        {
          "output_type": "stream",
          "text": [
            "[2021-05-31 07:15:45,761] (INFO): Trial 0 finished with value: 0.8718029124298134 and parameters: {'feature_fraction': 0.6872700594236812, 'num_leaves': 244, 'bagging_fraction': 0.8659969709057025, 'min_sum_hessian_in_leaf': 0.24810409748678125, 'reg_alpha': 2.5361081166471375e-07, 'reg_lambda': 2.5348407664333426e-07}. Best is trial 0 with value: 0.8718029124298134.\n"
          ],
          "name": "stderr"
        },
        {
          "output_type": "stream",
          "text": [
            "Start fitting Lvl_0_Pipe_1_Mod_1_LightGBM ...\n",
            "\n",
            "===== Start working with fold 0 for Lvl_0_Pipe_1_Mod_1_LightGBM =====\n",
            "\n",
            "Training until validation scores don't improve for 100 rounds\n",
            "[100]\tvalid's auc: 0.870683\n",
            "[200]\tvalid's auc: 0.871275\n",
            "Early stopping, best iteration is:\n",
            "[166]\tvalid's auc: 0.871569\n",
            "Lvl_0_Pipe_1_Mod_1_LightGBM fitting and predicting completed\n"
          ],
          "name": "stdout"
        },
        {
          "output_type": "stream",
          "text": [
            "[2021-05-31 07:15:57,765] (INFO): Trial 1 finished with value: 0.8715694190579074 and parameters: {'feature_fraction': 0.5290418060840998, 'num_leaves': 223, 'bagging_fraction': 0.8005575058716043, 'min_sum_hessian_in_leaf': 0.679657809075816, 'reg_alpha': 1.5320059381854043e-08, 'reg_lambda': 5.360294728728285}. Best is trial 0 with value: 0.8718029124298134.\n"
          ],
          "name": "stderr"
        },
        {
          "output_type": "stream",
          "text": [
            "Start fitting Lvl_0_Pipe_1_Mod_1_LightGBM ...\n",
            "\n",
            "===== Start working with fold 0 for Lvl_0_Pipe_1_Mod_1_LightGBM =====\n",
            "\n",
            "Training until validation scores don't improve for 100 rounds\n",
            "[100]\tvalid's auc: 0.872128\n",
            "[200]\tvalid's auc: 0.871672\n",
            "Early stopping, best iteration is:\n",
            "[101]\tvalid's auc: 0.872129\n",
            "Lvl_0_Pipe_1_Mod_1_LightGBM fitting and predicting completed\n"
          ],
          "name": "stdout"
        },
        {
          "output_type": "stream",
          "text": [
            "[2021-05-31 07:16:03,868] (INFO): Trial 2 finished with value: 0.8721287823655852 and parameters: {'feature_fraction': 0.9162213204002109, 'num_leaves': 66, 'bagging_fraction': 0.5909124836035503, 'min_sum_hessian_in_leaf': 0.00541524411940254, 'reg_alpha': 5.472429642032198e-06, 'reg_lambda': 0.00052821153945323}. Best is trial 2 with value: 0.8721287823655852.\n"
          ],
          "name": "stderr"
        },
        {
          "output_type": "stream",
          "text": [
            "Start fitting Lvl_0_Pipe_1_Mod_1_LightGBM ...\n",
            "\n",
            "===== Start working with fold 0 for Lvl_0_Pipe_1_Mod_1_LightGBM =====\n",
            "\n",
            "Training until validation scores don't improve for 100 rounds\n",
            "[100]\tvalid's auc: 0.872185\n",
            "[200]\tvalid's auc: 0.87201\n",
            "Early stopping, best iteration is:\n",
            "[117]\tvalid's auc: 0.872353\n",
            "Lvl_0_Pipe_1_Mod_1_LightGBM fitting and predicting completed\n"
          ],
          "name": "stdout"
        },
        {
          "output_type": "stream",
          "text": [
            "[2021-05-31 07:16:11,063] (INFO): Trial 3 finished with value: 0.8723532084502826 and parameters: {'feature_fraction': 0.7159725093210578, 'num_leaves': 85, 'bagging_fraction': 0.8059264473611898, 'min_sum_hessian_in_leaf': 0.003613894271216527, 'reg_alpha': 4.258943089524393e-06, 'reg_lambda': 1.9826980964985924e-05}. Best is trial 3 with value: 0.8723532084502826.\n"
          ],
          "name": "stderr"
        },
        {
          "output_type": "stream",
          "text": [
            "Start fitting Lvl_0_Pipe_1_Mod_1_LightGBM ...\n",
            "\n",
            "===== Start working with fold 0 for Lvl_0_Pipe_1_Mod_1_LightGBM =====\n",
            "\n",
            "Training until validation scores don't improve for 100 rounds\n",
            "[100]\tvalid's auc: 0.871619\n",
            "Early stopping, best iteration is:\n",
            "[88]\tvalid's auc: 0.871916\n",
            "Lvl_0_Pipe_1_Mod_1_LightGBM fitting and predicting completed\n"
          ],
          "name": "stdout"
        },
        {
          "output_type": "stream",
          "text": [
            "[2021-05-31 07:16:18,659] (INFO): Trial 4 finished with value: 0.8719162767602068 and parameters: {'feature_fraction': 0.728034992108518, 'num_leaves': 204, 'bagging_fraction': 0.5998368910791798, 'min_sum_hessian_in_leaf': 0.11400863701127326, 'reg_alpha': 0.0021465011216654484, 'reg_lambda': 2.6185068507773707e-08}. Best is trial 3 with value: 0.8723532084502826.\n"
          ],
          "name": "stderr"
        },
        {
          "output_type": "stream",
          "text": [
            "Start fitting Lvl_0_Pipe_1_Mod_1_LightGBM ...\n",
            "\n",
            "===== Start working with fold 0 for Lvl_0_Pipe_1_Mod_1_LightGBM =====\n",
            "\n",
            "Training until validation scores don't improve for 100 rounds\n",
            "[100]\tvalid's auc: 0.871556\n",
            "[200]\tvalid's auc: 0.87176\n",
            "Early stopping, best iteration is:\n",
            "[178]\tvalid's auc: 0.871873\n",
            "Lvl_0_Pipe_1_Mod_1_LightGBM fitting and predicting completed\n"
          ],
          "name": "stdout"
        },
        {
          "output_type": "stream",
          "text": [
            "[2021-05-31 07:16:27,341] (INFO): Trial 5 finished with value: 0.8718725260267969 and parameters: {'feature_fraction': 0.8037724259507192, 'num_leaves': 56, 'bagging_fraction': 0.5325257964926398, 'min_sum_hessian_in_leaf': 6.245139574743075, 'reg_alpha': 4.905556676028774, 'reg_lambda': 0.18861495878553936}. Best is trial 3 with value: 0.8723532084502826.\n"
          ],
          "name": "stderr"
        },
        {
          "output_type": "stream",
          "text": [
            "Start fitting Lvl_0_Pipe_1_Mod_1_LightGBM ...\n",
            "\n",
            "===== Start working with fold 0 for Lvl_0_Pipe_1_Mod_1_LightGBM =====\n",
            "\n",
            "Training until validation scores don't improve for 100 rounds\n",
            "[100]\tvalid's auc: 0.871867\n",
            "[200]\tvalid's auc: 0.87218\n",
            "Early stopping, best iteration is:\n",
            "[189]\tvalid's auc: 0.872204\n",
            "Lvl_0_Pipe_1_Mod_1_LightGBM fitting and predicting completed\n"
          ],
          "name": "stdout"
        },
        {
          "output_type": "stream",
          "text": [
            "[2021-05-31 07:16:35,381] (INFO): Trial 6 finished with value: 0.8722036143007709 and parameters: {'feature_fraction': 0.6523068845866853, 'num_leaves': 39, 'bagging_fraction': 0.8421165132560784, 'min_sum_hessian_in_leaf': 0.057624872164786026, 'reg_alpha': 1.254134495897175e-07, 'reg_lambda': 0.00028614897264046574}. Best is trial 3 with value: 0.8723532084502826.\n"
          ],
          "name": "stderr"
        },
        {
          "output_type": "stream",
          "text": [
            "Start fitting Lvl_0_Pipe_1_Mod_1_LightGBM ...\n",
            "\n",
            "===== Start working with fold 0 for Lvl_0_Pipe_1_Mod_1_LightGBM =====\n",
            "\n",
            "Training until validation scores don't improve for 100 rounds\n",
            "[100]\tvalid's auc: 0.87076\n",
            "[200]\tvalid's auc: 0.870632\n",
            "Early stopping, best iteration is:\n",
            "[141]\tvalid's auc: 0.87135\n",
            "Lvl_0_Pipe_1_Mod_1_LightGBM fitting and predicting completed\n"
          ],
          "name": "stdout"
        },
        {
          "output_type": "stream",
          "text": [
            "[2021-05-31 07:16:46,102] (INFO): Trial 7 finished with value: 0.8713502989094154 and parameters: {'feature_fraction': 0.5171942605576092, 'num_leaves': 234, 'bagging_fraction': 0.6293899908000085, 'min_sum_hessian_in_leaf': 0.4467752817973907, 'reg_alpha': 6.388511557344611e-06, 'reg_lambda': 0.0004793052550782129}. Best is trial 3 with value: 0.8723532084502826.\n"
          ],
          "name": "stderr"
        },
        {
          "output_type": "stream",
          "text": [
            "Start fitting Lvl_0_Pipe_1_Mod_1_LightGBM ...\n",
            "\n",
            "===== Start working with fold 0 for Lvl_0_Pipe_1_Mod_1_LightGBM =====\n",
            "\n",
            "Training until validation scores don't improve for 100 rounds\n",
            "[100]\tvalid's auc: 0.871937\n",
            "[200]\tvalid's auc: 0.8721\n",
            "Early stopping, best iteration is:\n",
            "[149]\tvalid's auc: 0.872285\n",
            "Lvl_0_Pipe_1_Mod_1_LightGBM fitting and predicting completed\n"
          ],
          "name": "stdout"
        },
        {
          "output_type": "stream",
          "text": [
            "[2021-05-31 07:16:54,547] (INFO): Trial 8 finished with value: 0.8722849678179239 and parameters: {'feature_fraction': 0.7733551396716398, 'num_leaves': 60, 'bagging_fraction': 0.9847923138822793, 'min_sum_hessian_in_leaf': 1.2604664585649468, 'reg_alpha': 2.854239907497756, 'reg_lambda': 1.1309571585271483}. Best is trial 3 with value: 0.8723532084502826.\n"
          ],
          "name": "stderr"
        },
        {
          "output_type": "stream",
          "text": [
            "Start fitting Lvl_0_Pipe_1_Mod_1_LightGBM ...\n",
            "\n",
            "===== Start working with fold 0 for Lvl_0_Pipe_1_Mod_1_LightGBM =====\n",
            "\n",
            "Training until validation scores don't improve for 100 rounds\n",
            "[100]\tvalid's auc: 0.870929\n",
            "Early stopping, best iteration is:\n",
            "[53]\tvalid's auc: 0.871804\n",
            "Lvl_0_Pipe_1_Mod_1_LightGBM fitting and predicting completed\n"
          ],
          "name": "stdout"
        },
        {
          "output_type": "stream",
          "text": [
            "[2021-05-31 07:17:00,975] (INFO): Trial 9 finished with value: 0.8718041012598595 and parameters: {'feature_fraction': 0.7989499894055425, 'num_leaves': 237, 'bagging_fraction': 0.5442462510259598, 'min_sum_hessian_in_leaf': 0.006080390190296602, 'reg_alpha': 2.5529693461039728e-08, 'reg_lambda': 8.471746987003668e-06}. Best is trial 3 with value: 0.8723532084502826.\n"
          ],
          "name": "stderr"
        },
        {
          "output_type": "stream",
          "text": [
            "Start fitting Lvl_0_Pipe_1_Mod_1_LightGBM ...\n",
            "\n",
            "===== Start working with fold 0 for Lvl_0_Pipe_1_Mod_1_LightGBM =====\n",
            "\n",
            "Training until validation scores don't improve for 100 rounds\n",
            "[100]\tvalid's auc: 0.871689\n",
            "Early stopping, best iteration is:\n",
            "[73]\tvalid's auc: 0.872015\n",
            "Lvl_0_Pipe_1_Mod_1_LightGBM fitting and predicting completed\n"
          ],
          "name": "stdout"
        },
        {
          "output_type": "stream",
          "text": [
            "[2021-05-31 07:17:07,316] (INFO): Trial 10 finished with value: 0.8720153107723305 and parameters: {'feature_fraction': 0.9814780882230953, 'num_leaves': 134, 'bagging_fraction': 0.7149885992524333, 'min_sum_hessian_in_leaf': 0.0010996863521234087, 'reg_alpha': 0.006267629292122362, 'reg_lambda': 2.454198293114383e-06}. Best is trial 3 with value: 0.8723532084502826.\n"
          ],
          "name": "stderr"
        },
        {
          "output_type": "stream",
          "text": [
            "Start fitting Lvl_0_Pipe_1_Mod_1_LightGBM ...\n",
            "\n",
            "===== Start working with fold 0 for Lvl_0_Pipe_1_Mod_1_LightGBM =====\n",
            "\n",
            "Training until validation scores don't improve for 100 rounds\n",
            "[100]\tvalid's auc: 0.871116\n",
            "[200]\tvalid's auc: 0.871725\n",
            "[300]\tvalid's auc: 0.871464\n",
            "Early stopping, best iteration is:\n",
            "[210]\tvalid's auc: 0.87174\n",
            "Lvl_0_Pipe_1_Mod_1_LightGBM fitting and predicting completed\n"
          ],
          "name": "stdout"
        },
        {
          "output_type": "stream",
          "text": [
            "[2021-05-31 07:17:19,358] (INFO): Trial 11 finished with value: 0.8717396237662179 and parameters: {'feature_fraction': 0.613399084115787, 'num_leaves': 110, 'bagging_fraction': 0.9961813327301685, 'min_sum_hessian_in_leaf': 7.554453010166403, 'reg_alpha': 6.391162403755944, 'reg_lambda': 0.06556151462878797}. Best is trial 3 with value: 0.8723532084502826.\n"
          ],
          "name": "stderr"
        },
        {
          "output_type": "stream",
          "text": [
            "Start fitting Lvl_0_Pipe_1_Mod_1_LightGBM ...\n",
            "\n",
            "===== Start working with fold 0 for Lvl_0_Pipe_1_Mod_1_LightGBM =====\n",
            "\n",
            "Training until validation scores don't improve for 100 rounds\n",
            "[100]\tvalid's auc: 0.872322\n",
            "Early stopping, best iteration is:\n",
            "[86]\tvalid's auc: 0.872522\n",
            "Lvl_0_Pipe_1_Mod_1_LightGBM fitting and predicting completed\n"
          ],
          "name": "stdout"
        },
        {
          "output_type": "stream",
          "text": [
            "[2021-05-31 07:17:26,066] (INFO): Trial 12 finished with value: 0.8725219114785349 and parameters: {'feature_fraction': 0.8658975921081168, 'num_leaves': 91, 'bagging_fraction': 0.9983015751307269, 'min_sum_hessian_in_leaf': 2.789683891954095, 'reg_alpha': 0.07367743907015423, 'reg_lambda': 0.028641471340119004}. Best is trial 12 with value: 0.8725219114785349.\n"
          ],
          "name": "stderr"
        },
        {
          "output_type": "stream",
          "text": [
            "Start fitting Lvl_0_Pipe_1_Mod_1_LightGBM ...\n",
            "\n",
            "===== Start working with fold 0 for Lvl_0_Pipe_1_Mod_1_LightGBM =====\n",
            "\n",
            "Training until validation scores don't improve for 100 rounds\n",
            "[100]\tvalid's auc: 0.872069\n",
            "Early stopping, best iteration is:\n",
            "[55]\tvalid's auc: 0.872476\n",
            "\n",
            "===== Start working with fold 1 for Lvl_0_Pipe_1_Mod_1_LightGBM =====\n",
            "\n",
            "Training until validation scores don't improve for 100 rounds\n",
            "[100]\tvalid's auc: 0.876974\n",
            "[200]\tvalid's auc: 0.877013\n",
            "Early stopping, best iteration is:\n",
            "[166]\tvalid's auc: 0.877144\n",
            "\n",
            "===== Start working with fold 2 for Lvl_0_Pipe_1_Mod_1_LightGBM =====\n",
            "\n",
            "Training until validation scores don't improve for 100 rounds\n",
            "[100]\tvalid's auc: 0.877706\n",
            "Early stopping, best iteration is:\n",
            "[58]\tvalid's auc: 0.878138\n",
            "\n",
            "===== Start working with fold 3 for Lvl_0_Pipe_1_Mod_1_LightGBM =====\n",
            "\n",
            "Training until validation scores don't improve for 100 rounds\n",
            "[100]\tvalid's auc: 0.867248\n",
            "Early stopping, best iteration is:\n",
            "[78]\tvalid's auc: 0.86756\n",
            "\n",
            "===== Start working with fold 4 for Lvl_0_Pipe_1_Mod_1_LightGBM =====\n",
            "\n",
            "Training until validation scores don't improve for 100 rounds\n",
            "[100]\tvalid's auc: 0.875373\n",
            "Early stopping, best iteration is:\n",
            "[63]\tvalid's auc: 0.876075\n",
            "Lvl_0_Pipe_1_Mod_1_LightGBM fitting and predicting completed\n",
            "Start fitting Lvl_0_Pipe_1_Mod_2_CatBoost ...\n",
            "\n",
            "===== Start working with fold 0 for Lvl_0_Pipe_1_Mod_2_CatBoost =====\n",
            "\n",
            "0:\ttest: 0.8512511\tbest: 0.8512511 (0)\ttotal: 100ms\tremaining: 3m 20s\n",
            "100:\ttest: 0.8696597\tbest: 0.8696641 (99)\ttotal: 4.95s\tremaining: 1m 33s\n",
            "200:\ttest: 0.8708974\tbest: 0.8708974 (200)\ttotal: 9.72s\tremaining: 1m 27s\n",
            "300:\ttest: 0.8711524\tbest: 0.8711524 (300)\ttotal: 14.6s\tremaining: 1m 22s\n",
            "400:\ttest: 0.8713715\tbest: 0.8713875 (392)\ttotal: 19.4s\tremaining: 1m 17s\n",
            "500:\ttest: 0.8714849\tbest: 0.8714849 (500)\ttotal: 24.3s\tremaining: 1m 12s\n",
            "600:\ttest: 0.8715361\tbest: 0.8715408 (599)\ttotal: 29.1s\tremaining: 1m 7s\n",
            "700:\ttest: 0.8716279\tbest: 0.8716494 (684)\ttotal: 34.1s\tremaining: 1m 3s\n",
            "Stopped by overfitting detector  (100 iterations wait)\n",
            "\n",
            "bestTest = 0.8716493674\n",
            "bestIteration = 684\n",
            "\n",
            "Shrink model to first 685 iterations.\n",
            "\n",
            "===== Start working with fold 1 for Lvl_0_Pipe_1_Mod_2_CatBoost =====\n",
            "\n",
            "0:\ttest: 0.8565776\tbest: 0.8565776 (0)\ttotal: 48.8ms\tremaining: 1m 37s\n",
            "100:\ttest: 0.8747951\tbest: 0.8747951 (100)\ttotal: 4.9s\tremaining: 1m 32s\n",
            "200:\ttest: 0.8756705\tbest: 0.8756707 (199)\ttotal: 9.7s\tremaining: 1m 26s\n",
            "300:\ttest: 0.8761543\tbest: 0.8761601 (295)\ttotal: 14.5s\tremaining: 1m 21s\n",
            "400:\ttest: 0.8762620\tbest: 0.8762916 (376)\ttotal: 19.4s\tremaining: 1m 17s\n",
            "500:\ttest: 0.8763866\tbest: 0.8763892 (498)\ttotal: 24.3s\tremaining: 1m 12s\n",
            "600:\ttest: 0.8765024\tbest: 0.8765071 (599)\ttotal: 29.2s\tremaining: 1m 7s\n",
            "Stopped by overfitting detector  (100 iterations wait)\n",
            "\n",
            "bestTest = 0.8765071344\n",
            "bestIteration = 599\n",
            "\n",
            "Shrink model to first 600 iterations.\n",
            "\n",
            "===== Start working with fold 2 for Lvl_0_Pipe_1_Mod_2_CatBoost =====\n",
            "\n",
            "0:\ttest: 0.8579286\tbest: 0.8579286 (0)\ttotal: 47.4ms\tremaining: 1m 34s\n",
            "100:\ttest: 0.8764579\tbest: 0.8764579 (100)\ttotal: 4.87s\tremaining: 1m 31s\n",
            "200:\ttest: 0.8773385\tbest: 0.8773385 (200)\ttotal: 9.67s\tremaining: 1m 26s\n",
            "300:\ttest: 0.8777829\tbest: 0.8778246 (293)\ttotal: 14.5s\tremaining: 1m 21s\n",
            "400:\ttest: 0.8779584\tbest: 0.8779637 (394)\ttotal: 19.3s\tremaining: 1m 16s\n",
            "500:\ttest: 0.8779292\tbest: 0.8779960 (413)\ttotal: 26.5s\tremaining: 1m 19s\n",
            "Stopped by overfitting detector  (100 iterations wait)\n",
            "\n",
            "bestTest = 0.8779960287\n",
            "bestIteration = 413\n",
            "\n",
            "Shrink model to first 414 iterations.\n",
            "\n",
            "===== Start working with fold 3 for Lvl_0_Pipe_1_Mod_2_CatBoost =====\n",
            "\n",
            "0:\ttest: 0.8475529\tbest: 0.8475529 (0)\ttotal: 55.3ms\tremaining: 1m 50s\n",
            "100:\ttest: 0.8654347\tbest: 0.8654347 (100)\ttotal: 4.93s\tremaining: 1m 32s\n",
            "200:\ttest: 0.8661895\tbest: 0.8661968 (196)\ttotal: 9.74s\tremaining: 1m 27s\n",
            "300:\ttest: 0.8664055\tbest: 0.8664277 (298)\ttotal: 14.5s\tremaining: 1m 21s\n",
            "400:\ttest: 0.8664909\tbest: 0.8665061 (397)\ttotal: 19.4s\tremaining: 1m 17s\n",
            "500:\ttest: 0.8666260\tbest: 0.8666352 (496)\ttotal: 24.3s\tremaining: 1m 12s\n",
            "600:\ttest: 0.8667010\tbest: 0.8667175 (590)\ttotal: 29.3s\tremaining: 1m 8s\n",
            "700:\ttest: 0.8666790\tbest: 0.8667549 (611)\ttotal: 34.3s\tremaining: 1m 3s\n",
            "Stopped by overfitting detector  (100 iterations wait)\n",
            "\n",
            "bestTest = 0.8667549166\n",
            "bestIteration = 611\n",
            "\n",
            "Shrink model to first 612 iterations.\n",
            "\n",
            "===== Start working with fold 4 for Lvl_0_Pipe_1_Mod_2_CatBoost =====\n",
            "\n",
            "0:\ttest: 0.8564431\tbest: 0.8564431 (0)\ttotal: 49.8ms\tremaining: 1m 39s\n",
            "100:\ttest: 0.8749673\tbest: 0.8749726 (99)\ttotal: 4.88s\tremaining: 1m 31s\n",
            "200:\ttest: 0.8760916\tbest: 0.8761030 (192)\ttotal: 9.64s\tremaining: 1m 26s\n",
            "300:\ttest: 0.8764235\tbest: 0.8764235 (300)\ttotal: 14.4s\tremaining: 1m 21s\n",
            "400:\ttest: 0.8765956\tbest: 0.8765956 (400)\ttotal: 19.2s\tremaining: 1m 16s\n",
            "500:\ttest: 0.8764930\tbest: 0.8765956 (400)\ttotal: 24.2s\tremaining: 1m 12s\n",
            "Stopped by overfitting detector  (100 iterations wait)\n",
            "\n",
            "bestTest = 0.8765955976\n",
            "bestIteration = 400\n",
            "\n",
            "Shrink model to first 401 iterations.\n",
            "Lvl_0_Pipe_1_Mod_2_CatBoost fitting and predicting completed\n",
            "Optuna may run 109.32033038139343 secs\n"
          ],
          "name": "stdout"
        },
        {
          "output_type": "stream",
          "text": [
            "[2021-05-31 07:20:39,206] (INFO): A new study created in memory with name: no-name-a8259631-9aa7-462d-94f1-6d61bb17fbbb\n"
          ],
          "name": "stderr"
        },
        {
          "output_type": "stream",
          "text": [
            "Start fitting Lvl_0_Pipe_1_Mod_3_CatBoost ...\n",
            "\n",
            "===== Start working with fold 0 for Lvl_0_Pipe_1_Mod_3_CatBoost =====\n",
            "\n",
            "0:\ttest: 0.8383499\tbest: 0.8383499 (0)\ttotal: 58.1ms\tremaining: 1m 56s\n",
            "100:\ttest: 0.8688896\tbest: 0.8688896 (100)\ttotal: 4.71s\tremaining: 1m 28s\n",
            "200:\ttest: 0.8702986\tbest: 0.8702986 (200)\ttotal: 9.29s\tremaining: 1m 23s\n",
            "300:\ttest: 0.8709403\tbest: 0.8709403 (300)\ttotal: 13.9s\tremaining: 1m 18s\n",
            "400:\ttest: 0.8712316\tbest: 0.8712335 (398)\ttotal: 18.7s\tremaining: 1m 14s\n",
            "500:\ttest: 0.8713886\tbest: 0.8714073 (493)\ttotal: 23.5s\tremaining: 1m 10s\n",
            "600:\ttest: 0.8715213\tbest: 0.8715213 (600)\ttotal: 28.3s\tremaining: 1m 5s\n",
            "700:\ttest: 0.8716174\tbest: 0.8716199 (696)\ttotal: 33s\tremaining: 1m 1s\n",
            "800:\ttest: 0.8716484\tbest: 0.8716609 (757)\ttotal: 37.8s\tremaining: 56.6s\n",
            "900:\ttest: 0.8716895\tbest: 0.8717236 (842)\ttotal: 42.7s\tremaining: 52s\n",
            "Stopped by overfitting detector  (100 iterations wait)\n",
            "\n",
            "bestTest = 0.8717235612\n",
            "bestIteration = 842\n",
            "\n",
            "Shrink model to first 843 iterations.\n",
            "Lvl_0_Pipe_1_Mod_3_CatBoost fitting and predicting completed\n"
          ],
          "name": "stdout"
        },
        {
          "output_type": "stream",
          "text": [
            "[2021-05-31 07:21:24,920] (INFO): Trial 0 finished with value: 0.8717235665158812 and parameters: {'max_depth': 4, 'l2_leaf_reg': 3.6010467344475403, 'min_data_in_leaf': 15}. Best is trial 0 with value: 0.8717235665158812.\n"
          ],
          "name": "stderr"
        },
        {
          "output_type": "stream",
          "text": [
            "Start fitting Lvl_0_Pipe_1_Mod_3_CatBoost ...\n",
            "\n",
            "===== Start working with fold 0 for Lvl_0_Pipe_1_Mod_3_CatBoost =====\n",
            "\n",
            "0:\ttest: 0.8512511\tbest: 0.8512511 (0)\ttotal: 47.6ms\tremaining: 1m 35s\n",
            "100:\ttest: 0.8699027\tbest: 0.8699027 (100)\ttotal: 4.95s\tremaining: 1m 33s\n",
            "200:\ttest: 0.8708923\tbest: 0.8708923 (200)\ttotal: 9.73s\tremaining: 1m 27s\n",
            "300:\ttest: 0.8711527\tbest: 0.8711618 (267)\ttotal: 14.5s\tremaining: 1m 21s\n",
            "400:\ttest: 0.8714728\tbest: 0.8714852 (398)\ttotal: 19.3s\tremaining: 1m 17s\n",
            "500:\ttest: 0.8715259\tbest: 0.8715641 (465)\ttotal: 24.2s\tremaining: 1m 12s\n",
            "Stopped by overfitting detector  (100 iterations wait)\n",
            "\n",
            "bestTest = 0.871564106\n",
            "bestIteration = 465\n",
            "\n",
            "Shrink model to first 466 iterations.\n",
            "Lvl_0_Pipe_1_Mod_3_CatBoost fitting and predicting completed\n"
          ],
          "name": "stdout"
        },
        {
          "output_type": "stream",
          "text": [
            "[2021-05-31 07:21:53,125] (INFO): Trial 1 finished with value: 0.8715641077585587 and parameters: {'max_depth': 5, 'l2_leaf_reg': 2.5361081166471375e-07, 'min_data_in_leaf': 4}. Best is trial 0 with value: 0.8717235665158812.\n"
          ],
          "name": "stderr"
        },
        {
          "output_type": "stream",
          "text": [
            "Start fitting Lvl_0_Pipe_1_Mod_3_CatBoost ...\n",
            "\n",
            "===== Start working with fold 0 for Lvl_0_Pipe_1_Mod_3_CatBoost =====\n",
            "\n",
            "0:\ttest: 0.8382244\tbest: 0.8382244 (0)\ttotal: 43.1ms\tremaining: 1m 26s\n",
            "100:\ttest: 0.8670163\tbest: 0.8670163 (100)\ttotal: 4.34s\tremaining: 1m 21s\n",
            "200:\ttest: 0.8689946\tbest: 0.8689964 (199)\ttotal: 8.6s\tremaining: 1m 16s\n",
            "300:\ttest: 0.8699492\tbest: 0.8699492 (300)\ttotal: 12.8s\tremaining: 1m 12s\n",
            "400:\ttest: 0.8704961\tbest: 0.8704961 (400)\ttotal: 17s\tremaining: 1m 7s\n",
            "500:\ttest: 0.8707865\tbest: 0.8707865 (500)\ttotal: 21.2s\tremaining: 1m 3s\n",
            "600:\ttest: 0.8709097\tbest: 0.8709250 (593)\ttotal: 25.4s\tremaining: 59s\n",
            "700:\ttest: 0.8710370\tbest: 0.8710434 (676)\ttotal: 29.5s\tremaining: 54.7s\n",
            "800:\ttest: 0.8711958\tbest: 0.8712006 (793)\ttotal: 33.8s\tremaining: 50.5s\n",
            "900:\ttest: 0.8712629\tbest: 0.8712728 (898)\ttotal: 38s\tremaining: 46.3s\n",
            "1000:\ttest: 0.8713154\tbest: 0.8713260 (992)\ttotal: 42.2s\tremaining: 42.1s\n",
            "1100:\ttest: 0.8714087\tbest: 0.8714100 (1095)\ttotal: 46.4s\tremaining: 37.9s\n",
            "1200:\ttest: 0.8714541\tbest: 0.8714615 (1178)\ttotal: 50.6s\tremaining: 33.6s\n",
            "Stopped by overfitting detector  (100 iterations wait)\n",
            "\n",
            "bestTest = 0.8714614572\n",
            "bestIteration = 1178\n",
            "\n",
            "Shrink model to first 1179 iterations.\n",
            "Lvl_0_Pipe_1_Mod_3_CatBoost fitting and predicting completed\n"
          ],
          "name": "stdout"
        },
        {
          "output_type": "stream",
          "text": [
            "[2021-05-31 07:22:47,975] (INFO): Trial 2 finished with value: 0.8714614572002948 and parameters: {'max_depth': 3, 'l2_leaf_reg': 0.6245760287469893, 'min_data_in_leaf': 13}. Best is trial 0 with value: 0.8717235665158812.\n"
          ],
          "name": "stderr"
        },
        {
          "output_type": "stream",
          "text": [
            "Start fitting Lvl_0_Pipe_1_Mod_3_CatBoost ...\n",
            "\n",
            "===== Start working with fold 0 for Lvl_0_Pipe_1_Mod_3_CatBoost =====\n",
            "\n",
            "0:\ttest: 0.8383499\tbest: 0.8383499 (0)\ttotal: 47.6ms\tremaining: 2m 22s\n",
            "100:\ttest: 0.8676849\tbest: 0.8676849 (100)\ttotal: 4.79s\tremaining: 2m 17s\n",
            "200:\ttest: 0.8697128\tbest: 0.8697162 (199)\ttotal: 9.34s\tremaining: 2m 10s\n",
            "300:\ttest: 0.8703919\tbest: 0.8703919 (300)\ttotal: 13.9s\tremaining: 2m 5s\n",
            "400:\ttest: 0.8709361\tbest: 0.8709361 (400)\ttotal: 18.6s\tremaining: 2m\n",
            "500:\ttest: 0.8712031\tbest: 0.8712118 (498)\ttotal: 23.3s\tremaining: 1m 56s\n",
            "600:\ttest: 0.8714117\tbest: 0.8714155 (596)\ttotal: 28s\tremaining: 1m 51s\n",
            "700:\ttest: 0.8715489\tbest: 0.8715489 (700)\ttotal: 32.8s\tremaining: 1m 47s\n",
            "800:\ttest: 0.8715645\tbest: 0.8715645 (800)\ttotal: 37.6s\tremaining: 1m 43s\n",
            "900:\ttest: 0.8716344\tbest: 0.8716344 (900)\ttotal: 42.5s\tremaining: 1m 39s\n",
            "1000:\ttest: 0.8716733\tbest: 0.8716733 (1000)\ttotal: 47.4s\tremaining: 1m 34s\n",
            "1100:\ttest: 0.8717123\tbest: 0.8717123 (1100)\ttotal: 52.3s\tremaining: 1m 30s\n",
            "1200:\ttest: 0.8717187\tbest: 0.8717340 (1141)\ttotal: 57.2s\tremaining: 1m 25s\n",
            "1300:\ttest: 0.8717500\tbest: 0.8717500 (1299)\ttotal: 1m 1s\tremaining: 1m 20s\n",
            "Stopped by overfitting detector  (100 iterations wait)\n",
            "\n",
            "bestTest = 0.8717499907\n",
            "bestIteration = 1299\n",
            "\n",
            "Shrink model to first 1300 iterations.\n",
            "\n",
            "===== Start working with fold 1 for Lvl_0_Pipe_1_Mod_3_CatBoost =====\n",
            "\n",
            "0:\ttest: 0.8454330\tbest: 0.8454330 (0)\ttotal: 46.8ms\tremaining: 2m 20s\n",
            "100:\ttest: 0.8735672\tbest: 0.8735672 (100)\ttotal: 4.84s\tremaining: 2m 19s\n",
            "200:\ttest: 0.8747849\tbest: 0.8747849 (200)\ttotal: 9.45s\tremaining: 2m 11s\n",
            "300:\ttest: 0.8753418\tbest: 0.8753418 (300)\ttotal: 14s\tremaining: 2m 5s\n",
            "400:\ttest: 0.8757495\tbest: 0.8757495 (400)\ttotal: 18.7s\tremaining: 2m\n",
            "500:\ttest: 0.8759494\tbest: 0.8759521 (497)\ttotal: 23.3s\tremaining: 1m 56s\n",
            "600:\ttest: 0.8760658\tbest: 0.8760666 (597)\ttotal: 28.1s\tremaining: 1m 52s\n",
            "700:\ttest: 0.8761238\tbest: 0.8761242 (661)\ttotal: 32.9s\tremaining: 1m 48s\n",
            "800:\ttest: 0.8761861\tbest: 0.8761871 (796)\ttotal: 37.7s\tremaining: 1m 43s\n",
            "900:\ttest: 0.8762295\tbest: 0.8762302 (899)\ttotal: 42.5s\tremaining: 1m 39s\n",
            "1000:\ttest: 0.8762083\tbest: 0.8762370 (905)\ttotal: 47.3s\tremaining: 1m 34s\n",
            "Stopped by overfitting detector  (100 iterations wait)\n",
            "\n",
            "bestTest = 0.8762369786\n",
            "bestIteration = 905\n",
            "\n",
            "Shrink model to first 906 iterations.\n",
            "\n",
            "===== Start working with fold 2 for Lvl_0_Pipe_1_Mod_3_CatBoost =====\n",
            "\n",
            "0:\ttest: 0.8460722\tbest: 0.8460722 (0)\ttotal: 50.5ms\tremaining: 2m 31s\n",
            "100:\ttest: 0.8745336\tbest: 0.8745336 (100)\ttotal: 4.85s\tremaining: 2m 19s\n",
            "200:\ttest: 0.8761857\tbest: 0.8761857 (200)\ttotal: 9.45s\tremaining: 2m 11s\n",
            "300:\ttest: 0.8768030\tbest: 0.8768030 (300)\ttotal: 14.1s\tremaining: 2m 6s\n",
            "400:\ttest: 0.8771247\tbest: 0.8771247 (400)\ttotal: 18.7s\tremaining: 2m 1s\n",
            "500:\ttest: 0.8773697\tbest: 0.8773746 (497)\ttotal: 23.4s\tremaining: 1m 56s\n",
            "600:\ttest: 0.8775224\tbest: 0.8775383 (591)\ttotal: 28.1s\tremaining: 1m 52s\n",
            "700:\ttest: 0.8776258\tbest: 0.8776306 (699)\ttotal: 32.9s\tremaining: 1m 47s\n",
            "800:\ttest: 0.8777384\tbest: 0.8777384 (800)\ttotal: 37.7s\tremaining: 1m 43s\n",
            "900:\ttest: 0.8778191\tbest: 0.8778353 (882)\ttotal: 42.5s\tremaining: 1m 39s\n",
            "1000:\ttest: 0.8778386\tbest: 0.8778421 (946)\ttotal: 47.3s\tremaining: 1m 34s\n",
            "1100:\ttest: 0.8778316\tbest: 0.8778602 (1016)\ttotal: 52.2s\tremaining: 1m 29s\n",
            "Stopped by overfitting detector  (100 iterations wait)\n",
            "\n",
            "bestTest = 0.877860157\n",
            "bestIteration = 1016\n",
            "\n",
            "Shrink model to first 1017 iterations.\n",
            "\n",
            "===== Start working with fold 3 for Lvl_0_Pipe_1_Mod_3_CatBoost =====\n",
            "\n",
            "0:\ttest: 0.8356997\tbest: 0.8356997 (0)\ttotal: 46.4ms\tremaining: 2m 19s\n",
            "100:\ttest: 0.8634240\tbest: 0.8634295 (99)\ttotal: 4.82s\tremaining: 2m 18s\n",
            "200:\ttest: 0.8651913\tbest: 0.8651943 (199)\ttotal: 9.41s\tremaining: 2m 11s\n",
            "300:\ttest: 0.8658666\tbest: 0.8658666 (300)\ttotal: 14s\tremaining: 2m 5s\n",
            "400:\ttest: 0.8660491\tbest: 0.8660624 (398)\ttotal: 18.6s\tremaining: 2m\n",
            "500:\ttest: 0.8660449\tbest: 0.8660748 (481)\ttotal: 23.3s\tremaining: 1m 56s\n",
            "600:\ttest: 0.8661328\tbest: 0.8661565 (562)\ttotal: 28s\tremaining: 1m 51s\n",
            "Stopped by overfitting detector  (100 iterations wait)\n",
            "\n",
            "bestTest = 0.8661565489\n",
            "bestIteration = 562\n",
            "\n",
            "Shrink model to first 563 iterations.\n",
            "\n",
            "===== Start working with fold 4 for Lvl_0_Pipe_1_Mod_3_CatBoost =====\n",
            "\n",
            "0:\ttest: 0.8456065\tbest: 0.8456065 (0)\ttotal: 49.6ms\tremaining: 2m 28s\n",
            "100:\ttest: 0.8728873\tbest: 0.8728873 (100)\ttotal: 4.8s\tremaining: 2m 17s\n",
            "200:\ttest: 0.8746800\tbest: 0.8746800 (200)\ttotal: 9.36s\tremaining: 2m 10s\n",
            "300:\ttest: 0.8752624\tbest: 0.8752624 (300)\ttotal: 13.9s\tremaining: 2m 5s\n",
            "400:\ttest: 0.8757645\tbest: 0.8757657 (399)\ttotal: 18.6s\tremaining: 2m\n",
            "500:\ttest: 0.8759963\tbest: 0.8759963 (500)\ttotal: 23.3s\tremaining: 1m 56s\n",
            "600:\ttest: 0.8760963\tbest: 0.8760963 (600)\ttotal: 28s\tremaining: 1m 51s\n",
            "700:\ttest: 0.8762067\tbest: 0.8762067 (700)\ttotal: 32.8s\tremaining: 1m 47s\n",
            "800:\ttest: 0.8761925\tbest: 0.8762098 (783)\ttotal: 37.6s\tremaining: 1m 43s\n",
            "900:\ttest: 0.8762390\tbest: 0.8762620 (888)\ttotal: 42.4s\tremaining: 1m 38s\n",
            "1000:\ttest: 0.8762939\tbest: 0.8762939 (1000)\ttotal: 47.2s\tremaining: 1m 34s\n",
            "1100:\ttest: 0.8762782\tbest: 0.8763068 (1014)\ttotal: 52.1s\tremaining: 1m 29s\n",
            "Stopped by overfitting detector  (100 iterations wait)\n",
            "\n",
            "bestTest = 0.8763068246\n",
            "bestIteration = 1014\n",
            "\n",
            "Shrink model to first 1015 iterations.\n",
            "Lvl_0_Pipe_1_Mod_3_CatBoost fitting and predicting completed\n",
            "Time left 428.52489590644836\n",
            "Blending: Optimization starts with equal weights and score 0.8732422044749064\n",
            "Blending, iter 0: score = 0.8741990614928687, weights = [0.         0.50555384 0.25695702 0.23748913 0.        ]\n",
            "Blending, iter 1: score = 0.8742061141690163, weights = [0.         0.45750067 0.20288542 0.33961388 0.        ]\n",
            "Blending, iter 2: score = 0.8742061781691903, weights = [0.         0.4662038  0.1996306  0.33416557 0.        ]\n",
            "Blending, iter 3: score = 0.8742061781691903, weights = [0.         0.4662038  0.1996306  0.33416557 0.        ]\n",
            "No score update. Terminated\n",
            "\n",
            "Automl preset training completed in 784.69 seconds.\n"
          ],
          "name": "stdout"
        },
        {
          "output_type": "stream",
          "text": [
            "[2021-05-31 07:27:16,368] (INFO): oof_pred:\n",
            "array([[0.15440635],\n",
            "       [0.0553146 ],\n",
            "       [0.24829727],\n",
            "       ...,\n",
            "       [0.10205546],\n",
            "       [0.05700858],\n",
            "       [0.05558565]], dtype=float32)\n",
            "Shape = (196580, 1)\n"
          ],
          "name": "stderr"
        },
        {
          "output_type": "stream",
          "text": [
            "CPU times: user 23min 41s, sys: 25 s, total: 24min 6s\n",
            "Wall time: 13min 4s\n"
          ],
          "name": "stdout"
        }
      ]
    },
    {
      "cell_type": "code",
      "metadata": {
        "colab": {
          "base_uri": "https://localhost:8080/"
        },
        "id": "h-0NLg4yIluq",
        "outputId": "2d70c3d9-9fe6-48e2-969d-02bea07a6e01"
      },
      "source": [
        "test_pred = automl.predict(test_data)\n",
        "logging.info('Prediction for test data:\\n{}\\nShape = {}'\n",
        "              .format(test_pred, test_pred.shape))\n",
        "\n",
        "logging.info('Check scores...')\n",
        "logging.info('OOF score: {}'.format(roc_auc_score(train_data[TARGET_NAME].values, oof_pred.data[:, 0])))\n",
        "logging.info('TEST score: {}'.format(roc_auc_score(test_data[TARGET_NAME].values, test_pred.data[:, 0])))"
      ],
      "execution_count": null,
      "outputs": [
        {
          "output_type": "stream",
          "text": [
            "[2021-05-29 03:42:06,458] (INFO): Prediction for test data:\n",
            "array([[0.0563424 ],\n",
            "       [0.0971192 ],\n",
            "       [0.97665566],\n",
            "       ...,\n",
            "       [0.05398151],\n",
            "       [0.04249433],\n",
            "       [0.1935873 ]], dtype=float32)\n",
            "Shape = (49145, 1)\n",
            "[2021-05-29 03:42:06,460] (INFO): Check scores...\n",
            "[2021-05-29 03:42:06,547] (INFO): OOF score: 0.8742277691105412\n",
            "[2021-05-29 03:42:06,569] (INFO): TEST score: 0.8736893546439155\n"
          ],
          "name": "stderr"
        }
      ]
    },
    {
      "cell_type": "code",
      "metadata": {
        "id": "Fgwk0ed1IlqE"
      },
      "source": [
        "pred = automl.predict(ld_test)"
      ],
      "execution_count": null,
      "outputs": []
    },
    {
      "cell_type": "code",
      "metadata": {
        "colab": {
          "background_save": true,
          "base_uri": "https://localhost:8080/",
          "height": 821
        },
        "id": "E3UN_YuHPiCQ",
        "outputId": "ecbf421e-aeb1-4513-b6e0-9c6cff1f3334"
      },
      "source": [
        "sub=pd.DataFrame(pred.data)\n",
        "sub"
      ],
      "execution_count": null,
      "outputs": [
        {
          "output_type": "execute_result",
          "data": {
            "text/html": [
              "<div>\n",
              "<style scoped>\n",
              "    .dataframe tbody tr th:only-of-type {\n",
              "        vertical-align: middle;\n",
              "    }\n",
              "\n",
              "    .dataframe tbody tr th {\n",
              "        vertical-align: top;\n",
              "    }\n",
              "\n",
              "    .dataframe thead th {\n",
              "        text-align: right;\n",
              "    }\n",
              "</style>\n",
              "<table border=\"1\" class=\"dataframe\">\n",
              "  <thead>\n",
              "    <tr style=\"text-align: right;\">\n",
              "      <th></th>\n",
              "      <th>0</th>\n",
              "    </tr>\n",
              "  </thead>\n",
              "  <tbody>\n",
              "    <tr>\n",
              "      <th>0</th>\n",
              "      <td>0.048973</td>\n",
              "    </tr>\n",
              "    <tr>\n",
              "      <th>1</th>\n",
              "      <td>0.820086</td>\n",
              "    </tr>\n",
              "    <tr>\n",
              "      <th>2</th>\n",
              "      <td>0.053697</td>\n",
              "    </tr>\n",
              "    <tr>\n",
              "      <th>3</th>\n",
              "      <td>0.027799</td>\n",
              "    </tr>\n",
              "    <tr>\n",
              "      <th>4</th>\n",
              "      <td>0.027410</td>\n",
              "    </tr>\n",
              "    <tr>\n",
              "      <th>...</th>\n",
              "      <td>...</td>\n",
              "    </tr>\n",
              "    <tr>\n",
              "      <th>105307</th>\n",
              "      <td>0.971396</td>\n",
              "    </tr>\n",
              "    <tr>\n",
              "      <th>105308</th>\n",
              "      <td>0.587967</td>\n",
              "    </tr>\n",
              "    <tr>\n",
              "      <th>105309</th>\n",
              "      <td>0.096434</td>\n",
              "    </tr>\n",
              "    <tr>\n",
              "      <th>105310</th>\n",
              "      <td>0.208474</td>\n",
              "    </tr>\n",
              "    <tr>\n",
              "      <th>105311</th>\n",
              "      <td>0.052537</td>\n",
              "    </tr>\n",
              "  </tbody>\n",
              "</table>\n",
              "<p>105312 rows × 1 columns</p>\n",
              "</div>"
            ],
            "text/plain": [
              "               0\n",
              "0       0.048973\n",
              "1       0.820086\n",
              "2       0.053697\n",
              "3       0.027799\n",
              "4       0.027410\n",
              "...          ...\n",
              "105307  0.971396\n",
              "105308  0.587967\n",
              "105309  0.096434\n",
              "105310  0.208474\n",
              "105311  0.052537\n",
              "\n",
              "[105312 rows x 1 columns]"
            ]
          },
          "metadata": {
            "tags": []
          },
          "execution_count": 0
        }
      ]
    },
    {
      "cell_type": "code",
      "metadata": {
        "colab": {
          "base_uri": "https://localhost:8080/"
        },
        "id": "kwqj2xBAIlkS",
        "outputId": "126cdc66-b42e-4102-8dd5-cff913bd37fe"
      },
      "source": [
        "type(pred)"
      ],
      "execution_count": null,
      "outputs": [
        {
          "output_type": "execute_result",
          "data": {
            "text/plain": [
              "lightautoml.dataset.np_pd_dataset.NumpyDataset"
            ]
          },
          "metadata": {
            "tags": []
          },
          "execution_count": 43
        }
      ]
    },
    {
      "cell_type": "code",
      "metadata": {
        "id": "agBP33uEIlh3"
      },
      "source": [
        "test=pd.read_csv(\"test.csv\") "
      ],
      "execution_count": null,
      "outputs": []
    },
    {
      "cell_type": "code",
      "metadata": {
        "id": "oJTsrJA4IlSS"
      },
      "source": [
        "k=pd.concat([test[\"ID\"],sub],axis=1)"
      ],
      "execution_count": null,
      "outputs": []
    },
    {
      "cell_type": "code",
      "metadata": {
        "id": "Ka0gob5UIlO3",
        "colab": {
          "base_uri": "https://localhost:8080/",
          "height": 419
        },
        "outputId": "76a7e8f4-7b7b-4cad-a48d-7aa6e0d43c60"
      },
      "source": [
        "k"
      ],
      "execution_count": null,
      "outputs": [
        {
          "output_type": "execute_result",
          "data": {
            "text/html": [
              "<div>\n",
              "<style scoped>\n",
              "    .dataframe tbody tr th:only-of-type {\n",
              "        vertical-align: middle;\n",
              "    }\n",
              "\n",
              "    .dataframe tbody tr th {\n",
              "        vertical-align: top;\n",
              "    }\n",
              "\n",
              "    .dataframe thead th {\n",
              "        text-align: right;\n",
              "    }\n",
              "</style>\n",
              "<table border=\"1\" class=\"dataframe\">\n",
              "  <thead>\n",
              "    <tr style=\"text-align: right;\">\n",
              "      <th></th>\n",
              "      <th>ID</th>\n",
              "      <th>0</th>\n",
              "    </tr>\n",
              "  </thead>\n",
              "  <tbody>\n",
              "    <tr>\n",
              "      <th>0</th>\n",
              "      <td>VBENBARO</td>\n",
              "      <td>0.048973</td>\n",
              "    </tr>\n",
              "    <tr>\n",
              "      <th>1</th>\n",
              "      <td>CCMEWNKY</td>\n",
              "      <td>0.820086</td>\n",
              "    </tr>\n",
              "    <tr>\n",
              "      <th>2</th>\n",
              "      <td>VK3KGA9M</td>\n",
              "      <td>0.053697</td>\n",
              "    </tr>\n",
              "    <tr>\n",
              "      <th>3</th>\n",
              "      <td>TT8RPZVC</td>\n",
              "      <td>0.027799</td>\n",
              "    </tr>\n",
              "    <tr>\n",
              "      <th>4</th>\n",
              "      <td>SHQZEYTZ</td>\n",
              "      <td>0.027410</td>\n",
              "    </tr>\n",
              "    <tr>\n",
              "      <th>...</th>\n",
              "      <td>...</td>\n",
              "      <td>...</td>\n",
              "    </tr>\n",
              "    <tr>\n",
              "      <th>105307</th>\n",
              "      <td>DBENJOYI</td>\n",
              "      <td>0.971396</td>\n",
              "    </tr>\n",
              "    <tr>\n",
              "      <th>105308</th>\n",
              "      <td>CWQ72DWS</td>\n",
              "      <td>0.587967</td>\n",
              "    </tr>\n",
              "    <tr>\n",
              "      <th>105309</th>\n",
              "      <td>HDESC8GU</td>\n",
              "      <td>0.096434</td>\n",
              "    </tr>\n",
              "    <tr>\n",
              "      <th>105310</th>\n",
              "      <td>2PW4SFCA</td>\n",
              "      <td>0.208474</td>\n",
              "    </tr>\n",
              "    <tr>\n",
              "      <th>105311</th>\n",
              "      <td>F2NOYPPZ</td>\n",
              "      <td>0.052537</td>\n",
              "    </tr>\n",
              "  </tbody>\n",
              "</table>\n",
              "<p>105312 rows × 2 columns</p>\n",
              "</div>"
            ],
            "text/plain": [
              "              ID         0\n",
              "0       VBENBARO  0.048973\n",
              "1       CCMEWNKY  0.820086\n",
              "2       VK3KGA9M  0.053697\n",
              "3       TT8RPZVC  0.027799\n",
              "4       SHQZEYTZ  0.027410\n",
              "...          ...       ...\n",
              "105307  DBENJOYI  0.971396\n",
              "105308  CWQ72DWS  0.587967\n",
              "105309  HDESC8GU  0.096434\n",
              "105310  2PW4SFCA  0.208474\n",
              "105311  F2NOYPPZ  0.052537\n",
              "\n",
              "[105312 rows x 2 columns]"
            ]
          },
          "metadata": {
            "tags": []
          },
          "execution_count": 56
        }
      ]
    },
    {
      "cell_type": "code",
      "metadata": {
        "id": "Bjo3_9KRIlNh"
      },
      "source": [
        "k1 = k.rename({0:\"Is_Lead\"}, axis=1)"
      ],
      "execution_count": null,
      "outputs": []
    },
    {
      "cell_type": "code",
      "metadata": {
        "id": "S9DzxWq8IlI0",
        "colab": {
          "base_uri": "https://localhost:8080/",
          "height": 204
        },
        "outputId": "6656f5b0-916f-4b17-f355-8240ab12d258"
      },
      "source": [
        "k1.head()"
      ],
      "execution_count": null,
      "outputs": [
        {
          "output_type": "execute_result",
          "data": {
            "text/html": [
              "<div>\n",
              "<style scoped>\n",
              "    .dataframe tbody tr th:only-of-type {\n",
              "        vertical-align: middle;\n",
              "    }\n",
              "\n",
              "    .dataframe tbody tr th {\n",
              "        vertical-align: top;\n",
              "    }\n",
              "\n",
              "    .dataframe thead th {\n",
              "        text-align: right;\n",
              "    }\n",
              "</style>\n",
              "<table border=\"1\" class=\"dataframe\">\n",
              "  <thead>\n",
              "    <tr style=\"text-align: right;\">\n",
              "      <th></th>\n",
              "      <th>ID</th>\n",
              "      <th>Is_Lead</th>\n",
              "    </tr>\n",
              "  </thead>\n",
              "  <tbody>\n",
              "    <tr>\n",
              "      <th>0</th>\n",
              "      <td>VBENBARO</td>\n",
              "      <td>0.048973</td>\n",
              "    </tr>\n",
              "    <tr>\n",
              "      <th>1</th>\n",
              "      <td>CCMEWNKY</td>\n",
              "      <td>0.820086</td>\n",
              "    </tr>\n",
              "    <tr>\n",
              "      <th>2</th>\n",
              "      <td>VK3KGA9M</td>\n",
              "      <td>0.053697</td>\n",
              "    </tr>\n",
              "    <tr>\n",
              "      <th>3</th>\n",
              "      <td>TT8RPZVC</td>\n",
              "      <td>0.027799</td>\n",
              "    </tr>\n",
              "    <tr>\n",
              "      <th>4</th>\n",
              "      <td>SHQZEYTZ</td>\n",
              "      <td>0.027410</td>\n",
              "    </tr>\n",
              "  </tbody>\n",
              "</table>\n",
              "</div>"
            ],
            "text/plain": [
              "         ID   Is_Lead\n",
              "0  VBENBARO  0.048973\n",
              "1  CCMEWNKY  0.820086\n",
              "2  VK3KGA9M  0.053697\n",
              "3  TT8RPZVC  0.027799\n",
              "4  SHQZEYTZ  0.027410"
            ]
          },
          "metadata": {
            "tags": []
          },
          "execution_count": 58
        }
      ]
    },
    {
      "cell_type": "code",
      "metadata": {
        "id": "urLfdqyRIlGl"
      },
      "source": [
        "k1.to_csv(\"auto ml.csv\",index=False)"
      ],
      "execution_count": null,
      "outputs": []
    },
    {
      "cell_type": "code",
      "metadata": {
        "id": "zDwyUwcrQwyi"
      },
      "source": [
        "from google.colab import files"
      ],
      "execution_count": null,
      "outputs": []
    },
    {
      "cell_type": "code",
      "metadata": {
        "colab": {
          "base_uri": "https://localhost:8080/",
          "height": 17
        },
        "id": "wMQBtjDJQ0gn",
        "outputId": "74f7182b-869d-4a33-d8b1-9845cda1d3c8"
      },
      "source": [
        "files.download('auto ml.csv')"
      ],
      "execution_count": null,
      "outputs": [
        {
          "output_type": "display_data",
          "data": {
            "application/javascript": [
              "\n",
              "    async function download(id, filename, size) {\n",
              "      if (!google.colab.kernel.accessAllowed) {\n",
              "        return;\n",
              "      }\n",
              "      const div = document.createElement('div');\n",
              "      const label = document.createElement('label');\n",
              "      label.textContent = `Downloading \"${filename}\": `;\n",
              "      div.appendChild(label);\n",
              "      const progress = document.createElement('progress');\n",
              "      progress.max = size;\n",
              "      div.appendChild(progress);\n",
              "      document.body.appendChild(div);\n",
              "\n",
              "      const buffers = [];\n",
              "      let downloaded = 0;\n",
              "\n",
              "      const channel = await google.colab.kernel.comms.open(id);\n",
              "      // Send a message to notify the kernel that we're ready.\n",
              "      channel.send({})\n",
              "\n",
              "      for await (const message of channel.messages) {\n",
              "        // Send a message to notify the kernel that we're ready.\n",
              "        channel.send({})\n",
              "        if (message.buffers) {\n",
              "          for (const buffer of message.buffers) {\n",
              "            buffers.push(buffer);\n",
              "            downloaded += buffer.byteLength;\n",
              "            progress.value = downloaded;\n",
              "          }\n",
              "        }\n",
              "      }\n",
              "      const blob = new Blob(buffers, {type: 'application/binary'});\n",
              "      const a = document.createElement('a');\n",
              "      a.href = window.URL.createObjectURL(blob);\n",
              "      a.download = filename;\n",
              "      div.appendChild(a);\n",
              "      a.click();\n",
              "      div.remove();\n",
              "    }\n",
              "  "
            ],
            "text/plain": [
              "<IPython.core.display.Javascript object>"
            ]
          },
          "metadata": {
            "tags": []
          }
        },
        {
          "output_type": "display_data",
          "data": {
            "application/javascript": [
              "download(\"download_9cfa5462-0f4b-43d2-88b1-30bb5cdf55cc\", \"auto ml.csv\", 2115575)"
            ],
            "text/plain": [
              "<IPython.core.display.Javascript object>"
            ]
          },
          "metadata": {
            "tags": []
          }
        }
      ]
    }
  ]
}